{
 "cells": [
  {
   "cell_type": "code",
   "execution_count": 1,
   "metadata": {},
   "outputs": [],
   "source": [
    "import pandas as pd\n",
    "%matplotlib inline\n",
    "\n",
    "import warnings\n",
    "warnings.filterwarnings('ignore', 'statsmodels.tsa.arima_model.ARMA',\n",
    "                        FutureWarning)\n",
    "warnings.filterwarnings('ignore', 'statsmodels.tsa.arima_model.ARIMA',\n",
    "                        FutureWarning)"
   ]
  },
  {
   "cell_type": "code",
   "execution_count": 2,
   "metadata": {},
   "outputs": [
    {
     "data": {
      "text/html": [
       "<div>\n",
       "<style scoped>\n",
       "    .dataframe tbody tr th:only-of-type {\n",
       "        vertical-align: middle;\n",
       "    }\n",
       "\n",
       "    .dataframe tbody tr th {\n",
       "        vertical-align: top;\n",
       "    }\n",
       "\n",
       "    .dataframe thead th {\n",
       "        text-align: right;\n",
       "    }\n",
       "</style>\n",
       "<table border=\"1\" class=\"dataframe\">\n",
       "  <thead>\n",
       "    <tr style=\"text-align: right;\">\n",
       "      <th></th>\n",
       "      <th>Currency</th>\n",
       "      <th>Closing Price (USD)</th>\n",
       "      <th>24h Open (USD)</th>\n",
       "      <th>24h High (USD)</th>\n",
       "      <th>24h Low (USD)</th>\n",
       "    </tr>\n",
       "    <tr>\n",
       "      <th>Date</th>\n",
       "      <th></th>\n",
       "      <th></th>\n",
       "      <th></th>\n",
       "      <th></th>\n",
       "      <th></th>\n",
       "    </tr>\n",
       "  </thead>\n",
       "  <tbody>\n",
       "    <tr>\n",
       "      <th>2021-01-01</th>\n",
       "      <td>DOGE</td>\n",
       "      <td>0.005405</td>\n",
       "      <td>0.004665</td>\n",
       "      <td>0.005516</td>\n",
       "      <td>0.004621</td>\n",
       "    </tr>\n",
       "    <tr>\n",
       "      <th>2021-01-02</th>\n",
       "      <td>DOGE</td>\n",
       "      <td>0.011427</td>\n",
       "      <td>0.005681</td>\n",
       "      <td>0.013892</td>\n",
       "      <td>0.005550</td>\n",
       "    </tr>\n",
       "    <tr>\n",
       "      <th>2021-01-03</th>\n",
       "      <td>DOGE</td>\n",
       "      <td>0.010046</td>\n",
       "      <td>0.010450</td>\n",
       "      <td>0.013907</td>\n",
       "      <td>0.009240</td>\n",
       "    </tr>\n",
       "    <tr>\n",
       "      <th>2021-01-04</th>\n",
       "      <td>DOGE</td>\n",
       "      <td>0.009630</td>\n",
       "      <td>0.009694</td>\n",
       "      <td>0.011450</td>\n",
       "      <td>0.007654</td>\n",
       "    </tr>\n",
       "    <tr>\n",
       "      <th>2021-01-05</th>\n",
       "      <td>DOGE</td>\n",
       "      <td>0.009730</td>\n",
       "      <td>0.009779</td>\n",
       "      <td>0.010279</td>\n",
       "      <td>0.008835</td>\n",
       "    </tr>\n",
       "  </tbody>\n",
       "</table>\n",
       "</div>"
      ],
      "text/plain": [
       "           Currency  Closing Price (USD)  24h Open (USD)  24h High (USD)  \\\n",
       "Date                                                                       \n",
       "2021-01-01     DOGE             0.005405        0.004665        0.005516   \n",
       "2021-01-02     DOGE             0.011427        0.005681        0.013892   \n",
       "2021-01-03     DOGE             0.010046        0.010450        0.013907   \n",
       "2021-01-04     DOGE             0.009630        0.009694        0.011450   \n",
       "2021-01-05     DOGE             0.009730        0.009779        0.010279   \n",
       "\n",
       "            24h Low (USD)  \n",
       "Date                       \n",
       "2021-01-01       0.004621  \n",
       "2021-01-02       0.005550  \n",
       "2021-01-03       0.009240  \n",
       "2021-01-04       0.007654  \n",
       "2021-01-05       0.008835  "
      ]
     },
     "execution_count": 2,
     "metadata": {},
     "output_type": "execute_result"
    }
   ],
   "source": [
    "from pathlib import Path\n",
    "csvpath = Path(\"../Project 2/Resources/DOGE_USD.csv\")\n",
    "df = pd.read_csv(csvpath, parse_dates=True, index_col='Date')\n",
    "df.head()"
   ]
  },
  {
   "cell_type": "code",
   "execution_count": 3,
   "metadata": {},
   "outputs": [
    {
     "name": "stdout",
     "output_type": "stream",
     "text": [
      "p-value: (-1.507909853353111, 0.5295948817632559, 7, 196, {'1%': -3.464161278384219, '5%': -2.876401960790147, '10%': -2.5746921001665974}, -750.1993387990653)\n"
     ]
    }
   ],
   "source": [
    "test = df['Closing Price (USD)']\n",
    "\n",
    "from statsmodels.tsa.stattools import adfuller\n",
    "\n",
    "print(\"p-value:\", adfuller(test.dropna()))"
   ]
  },
  {
   "cell_type": "code",
   "execution_count": 17,
   "metadata": {},
   "outputs": [
    {
     "data": {
      "text/plain": [
       "Date\n",
       "2021-01-01    0.005405\n",
       "2021-01-02    0.011427\n",
       "2021-01-03    0.010046\n",
       "2021-01-04    0.009630\n",
       "2021-01-05    0.009730\n",
       "                ...   \n",
       "2021-07-19    0.175495\n",
       "2021-07-20    0.169323\n",
       "2021-07-21    0.190550\n",
       "2021-07-22    0.190272\n",
       "2021-07-23    0.192075\n",
       "Name: Closing Price (USD), Length: 204, dtype: float64"
      ]
     },
     "execution_count": 17,
     "metadata": {},
     "output_type": "execute_result"
    }
   ],
   "source": [
    "test"
   ]
  },
  {
   "cell_type": "code",
   "execution_count": 4,
   "metadata": {},
   "outputs": [
    {
     "data": {
      "text/plain": [
       "<AxesSubplot:xlabel='Date'>"
      ]
     },
     "execution_count": 4,
     "metadata": {},
     "output_type": "execute_result"
    },
    {
     "data": {
      "image/png": "[encoded data removed]",
      "text/plain": [
       "<Figure size 432x288 with 1 Axes>"
      ]
     },
     "metadata": {
      "needs_background": "light"
     },
     "output_type": "display_data"
    }
   ],
   "source": [
    "df[\"Closing Price (USD)\"].plot()"
   ]
  },
  {
   "cell_type": "code",
   "execution_count": 5,
   "metadata": {},
   "outputs": [
    {
     "data": {
      "text/plain": [
       "<AxesSubplot:xlabel='Date'>"
      ]
     },
     "execution_count": 5,
     "metadata": {},
     "output_type": "execute_result"
    },
    {
     "data": {
      "image/png": "[encoded data removed]",
      "text/plain": [
       "<Figure size 432x288 with 1 Axes>"
      ]
     },
     "metadata": {
      "needs_background": "light"
     },
     "output_type": "display_data"
    }
   ],
   "source": [
    "# Differencing the Settle price stationarizes the time series\n",
    "df[\"Closing Price (USD)\"].diff().plot()"
   ]
  },
  {
   "cell_type": "markdown",
   "metadata": {},
   "source": [
    "# Autocorrelation and Partial Autocorrelation Analysis"
   ]
  },
  {
   "cell_type": "code",
   "execution_count": 6,
   "metadata": {},
   "outputs": [],
   "source": [
    "from statsmodels.graphics.tsaplots import plot_acf, plot_pacf"
   ]
  },
  {
   "cell_type": "code",
   "execution_count": 7,
   "metadata": {},
   "outputs": [
    {
     "data": {
      "image/png": "[encoded data removed]",
      "text/plain": [
       "<Figure size 432x288 with 1 Axes>"
      ]
     },
     "execution_count": 7,
     "metadata": {},
     "output_type": "execute_result"
    },
    {
     "data": {
      "image/png": "[encoded data removed]",
      "text/plain": [
       "<Figure size 432x288 with 1 Axes>"
      ]
     },
     "metadata": {
      "needs_background": "light"
     },
     "output_type": "display_data"
    }
   ],
   "source": [
    "# Plot the autocorrelation of the Settle Prices\n",
    "plot_acf(df[\"Closing Price (USD)\"], zero=False, lags=35)"
   ]
  },
  {
   "cell_type": "code",
   "execution_count": 8,
   "metadata": {},
   "outputs": [
    {
     "data": {
      "image/png": "[encoded data removed]",
      "text/plain": [
       "<Figure size 432x288 with 1 Axes>"
      ]
     },
     "execution_count": 8,
     "metadata": {},
     "output_type": "execute_result"
    },
    {
     "data": {
      "image/png": "[encoded data removed]",
      "text/plain": [
       "<Figure size 432x288 with 1 Axes>"
      ]
     },
     "metadata": {
      "needs_background": "light"
     },
     "output_type": "display_data"
    }
   ],
   "source": [
    "# Plot the partial autocorrelation of the returns\n",
    "plot_pacf(df[\"Closing Price (USD)\"], zero=False, lags=35)"
   ]
  },
  {
   "cell_type": "markdown",
   "metadata": {},
   "source": [
    "# ARIMA Model"
   ]
  },
  {
   "cell_type": "code",
   "execution_count": 9,
   "metadata": {},
   "outputs": [],
   "source": [
    "from statsmodels.tsa.arima_model import ARIMA"
   ]
  },
  {
   "cell_type": "code",
   "execution_count": 10,
   "metadata": {},
   "outputs": [
    {
     "name": "stderr",
     "output_type": "stream",
     "text": [
      "C:\\Users\\Jamison\\anaconda3\\lib\\site-packages\\statsmodels\\tsa\\arima_model.py:472: FutureWarning: \n",
      "statsmodels.tsa.arima_model.ARMA and statsmodels.tsa.arima_model.ARIMA have\n",
      "been deprecated in favor of statsmodels.tsa.arima.model.ARIMA (note the .\n",
      "between arima and model) and\n",
      "statsmodels.tsa.SARIMAX. These will be removed after the 0.12 release.\n",
      "\n",
      "statsmodels.tsa.arima.model.ARIMA makes use of the statespace framework and\n",
      "is both well tested and maintained.\n",
      "\n",
      "To silence this warning and continue using ARMA and ARIMA until they are\n",
      "removed, use:\n",
      "\n",
      "import warnings\n",
      "warnings.filterwarnings('ignore', 'statsmodels.tsa.arima_model.ARMA',\n",
      "                        FutureWarning)\n",
      "warnings.filterwarnings('ignore', 'statsmodels.tsa.arima_model.ARIMA',\n",
      "                        FutureWarning)\n",
      "\n",
      "  warnings.warn(ARIMA_DEPRECATION_WARN, FutureWarning)\n"
     ]
    }
   ],
   "source": [
    "# Create an ARIMA model\n",
    "model = ARIMA(df[\"Closing Price (USD)\"].values, order=(2, 2, 1))"
   ]
  },
  {
   "cell_type": "code",
   "execution_count": 11,
   "metadata": {},
   "outputs": [
    {
     "name": "stderr",
     "output_type": "stream",
     "text": [
      "C:\\Users\\Jamison\\anaconda3\\lib\\site-packages\\statsmodels\\tsa\\arima_model.py:472: FutureWarning: \n",
      "statsmodels.tsa.arima_model.ARMA and statsmodels.tsa.arima_model.ARIMA have\n",
      "been deprecated in favor of statsmodels.tsa.arima.model.ARIMA (note the .\n",
      "between arima and model) and\n",
      "statsmodels.tsa.SARIMAX. These will be removed after the 0.12 release.\n",
      "\n",
      "statsmodels.tsa.arima.model.ARIMA makes use of the statespace framework and\n",
      "is both well tested and maintained.\n",
      "\n",
      "To silence this warning and continue using ARMA and ARIMA until they are\n",
      "removed, use:\n",
      "\n",
      "import warnings\n",
      "warnings.filterwarnings('ignore', 'statsmodels.tsa.arima_model.ARMA',\n",
      "                        FutureWarning)\n",
      "warnings.filterwarnings('ignore', 'statsmodels.tsa.arima_model.ARIMA',\n",
      "                        FutureWarning)\n",
      "\n",
      "  warnings.warn(ARIMA_DEPRECATION_WARN, FutureWarning)\n"
     ]
    }
   ],
   "source": [
    "# Fit the model to the data\n",
    "results = model.fit()"
   ]
  },
  {
   "cell_type": "code",
   "execution_count": 12,
   "metadata": {},
   "outputs": [
    {
     "data": {
      "text/html": [
       "<table class=\"simpletable\">\n",
       "<caption>ARIMA Model Results</caption>\n",
       "<tr>\n",
       "  <th>Dep. Variable:</th>       <td>D2.y</td>       <th>  No. Observations:  </th>    <td>202</td>  \n",
       "</tr>\n",
       "<tr>\n",
       "  <th>Model:</th>          <td>ARIMA(2, 2, 1)</td>  <th>  Log Likelihood     </th>  <td>402.296</td>\n",
       "</tr>\n",
       "<tr>\n",
       "  <th>Method:</th>             <td>css-mle</td>     <th>  S.D. of innovations</th>   <td>0.033</td> \n",
       "</tr>\n",
       "<tr>\n",
       "  <th>Date:</th>          <td>Tue, 27 Jul 2021</td> <th>  AIC                </th> <td>-794.592</td>\n",
       "</tr>\n",
       "<tr>\n",
       "  <th>Time:</th>              <td>20:51:17</td>     <th>  BIC                </th> <td>-778.051</td>\n",
       "</tr>\n",
       "<tr>\n",
       "  <th>Sample:</th>                <td>2</td>        <th>  HQIC               </th> <td>-787.899</td>\n",
       "</tr>\n",
       "<tr>\n",
       "  <th></th>                       <td> </td>        <th>                     </th>     <td> </td>   \n",
       "</tr>\n",
       "</table>\n",
       "<table class=\"simpletable\">\n",
       "<tr>\n",
       "       <td></td>         <th>coef</th>     <th>std err</th>      <th>z</th>      <th>P>|z|</th>  <th>[0.025</th>    <th>0.975]</th>  \n",
       "</tr>\n",
       "<tr>\n",
       "  <th>const</th>      <td>-2.405e-05</td> <td> 4.02e-05</td> <td>   -0.598</td> <td> 0.550</td> <td>   -0.000</td> <td> 5.48e-05</td>\n",
       "</tr>\n",
       "<tr>\n",
       "  <th>ar.L1.D2.y</th> <td>   -0.0692</td> <td>    0.070</td> <td>   -0.988</td> <td> 0.323</td> <td>   -0.206</td> <td>    0.068</td>\n",
       "</tr>\n",
       "<tr>\n",
       "  <th>ar.L2.D2.y</th> <td>    0.1002</td> <td>    0.070</td> <td>    1.434</td> <td> 0.152</td> <td>   -0.037</td> <td>    0.237</td>\n",
       "</tr>\n",
       "<tr>\n",
       "  <th>ma.L1.D2.y</th> <td>   -1.0000</td> <td>    0.016</td> <td>  -63.965</td> <td> 0.000</td> <td>   -1.031</td> <td>   -0.969</td>\n",
       "</tr>\n",
       "</table>\n",
       "<table class=\"simpletable\">\n",
       "<caption>Roots</caption>\n",
       "<tr>\n",
       "    <td></td>   <th>            Real</th>  <th>         Imaginary</th> <th>         Modulus</th>  <th>        Frequency</th>\n",
       "</tr>\n",
       "<tr>\n",
       "  <th>AR.1</th> <td>          -2.8322</td> <td>          +0.0000j</td> <td>           2.8322</td> <td>           0.5000</td>\n",
       "</tr>\n",
       "<tr>\n",
       "  <th>AR.2</th> <td>           3.5227</td> <td>          +0.0000j</td> <td>           3.5227</td> <td>           0.0000</td>\n",
       "</tr>\n",
       "<tr>\n",
       "  <th>MA.1</th> <td>           1.0000</td> <td>          +0.0000j</td> <td>           1.0000</td> <td>           0.0000</td>\n",
       "</tr>\n",
       "</table>"
      ],
      "text/plain": [
       "<class 'statsmodels.iolib.summary.Summary'>\n",
       "\"\"\"\n",
       "                             ARIMA Model Results                              \n",
       "==============================================================================\n",
       "Dep. Variable:                   D2.y   No. Observations:                  202\n",
       "Model:                 ARIMA(2, 2, 1)   Log Likelihood                 402.296\n",
       "Method:                       css-mle   S.D. of innovations              0.033\n",
       "Date:                Tue, 27 Jul 2021   AIC                           -794.592\n",
       "Time:                        20:51:17   BIC                           -778.051\n",
       "Sample:                             2   HQIC                          -787.899\n",
       "                                                                              \n",
       "==============================================================================\n",
       "                 coef    std err          z      P>|z|      [0.025      0.975]\n",
       "------------------------------------------------------------------------------\n",
       "const      -2.405e-05   4.02e-05     -0.598      0.550      -0.000    5.48e-05\n",
       "ar.L1.D2.y    -0.0692      0.070     -0.988      0.323      -0.206       0.068\n",
       "ar.L2.D2.y     0.1002      0.070      1.434      0.152      -0.037       0.237\n",
       "ma.L1.D2.y    -1.0000      0.016    -63.965      0.000      -1.031      -0.969\n",
       "                                    Roots                                    \n",
       "=============================================================================\n",
       "                  Real          Imaginary           Modulus         Frequency\n",
       "-----------------------------------------------------------------------------\n",
       "AR.1           -2.8322           +0.0000j            2.8322            0.5000\n",
       "AR.2            3.5227           +0.0000j            3.5227            0.0000\n",
       "MA.1            1.0000           +0.0000j            1.0000            0.0000\n",
       "-----------------------------------------------------------------------------\n",
       "\"\"\""
      ]
     },
     "execution_count": 12,
     "metadata": {},
     "output_type": "execute_result"
    }
   ],
   "source": [
    "# Print the model summary\n",
    "results.summary()"
   ]
  },
  {
   "cell_type": "code",
   "execution_count": 13,
   "metadata": {},
   "outputs": [
    {
     "data": {
      "text/plain": [
       "<AxesSubplot:title={'center':'Futures Forecast'}>"
      ]
     },
     "execution_count": 13,
     "metadata": {},
     "output_type": "execute_result"
    },
    {
     "data": {
      "image/png": "[encoded data removed]",
      "text/plain": [
       "<Figure size 432x288 with 1 Axes>"
      ]
     },
     "metadata": {
      "needs_background": "light"
     },
     "output_type": "display_data"
    }
   ],
   "source": [
    "# Plot the Futures Price Forecast\n",
    "pd.DataFrame(results.forecast(steps=10)[0]).plot(title=\"Futures Forecast\")"
   ]
  },
  {
   "cell_type": "markdown",
   "metadata": {},
   "source": [
    "# ARIMA Model using a Lag of 2"
   ]
  },
  {
   "cell_type": "code",
   "execution_count": 20,
   "metadata": {},
   "outputs": [
    {
     "name": "stderr",
     "output_type": "stream",
     "text": [
      "C:\\Users\\Jamison\\anaconda3\\lib\\site-packages\\statsmodels\\tsa\\arima_model.py:472: FutureWarning: \n",
      "statsmodels.tsa.arima_model.ARMA and statsmodels.tsa.arima_model.ARIMA have\n",
      "been deprecated in favor of statsmodels.tsa.arima.model.ARIMA (note the .\n",
      "between arima and model) and\n",
      "statsmodels.tsa.SARIMAX. These will be removed after the 0.12 release.\n",
      "\n",
      "statsmodels.tsa.arima.model.ARIMA makes use of the statespace framework and\n",
      "is both well tested and maintained.\n",
      "\n",
      "To silence this warning and continue using ARMA and ARIMA until they are\n",
      "removed, use:\n",
      "\n",
      "import warnings\n",
      "warnings.filterwarnings('ignore', 'statsmodels.tsa.arima_model.ARMA',\n",
      "                        FutureWarning)\n",
      "warnings.filterwarnings('ignore', 'statsmodels.tsa.arima_model.ARIMA',\n",
      "                        FutureWarning)\n",
      "\n",
      "  warnings.warn(ARIMA_DEPRECATION_WARN, FutureWarning)\n",
      "C:\\Users\\Jamison\\anaconda3\\lib\\site-packages\\statsmodels\\tsa\\arima_model.py:472: FutureWarning: \n",
      "statsmodels.tsa.arima_model.ARMA and statsmodels.tsa.arima_model.ARIMA have\n",
      "been deprecated in favor of statsmodels.tsa.arima.model.ARIMA (note the .\n",
      "between arima and model) and\n",
      "statsmodels.tsa.SARIMAX. These will be removed after the 0.12 release.\n",
      "\n",
      "statsmodels.tsa.arima.model.ARIMA makes use of the statespace framework and\n",
      "is both well tested and maintained.\n",
      "\n",
      "To silence this warning and continue using ARMA and ARIMA until they are\n",
      "removed, use:\n",
      "\n",
      "import warnings\n",
      "warnings.filterwarnings('ignore', 'statsmodels.tsa.arima_model.ARMA',\n",
      "                        FutureWarning)\n",
      "warnings.filterwarnings('ignore', 'statsmodels.tsa.arima_model.ARIMA',\n",
      "                        FutureWarning)\n",
      "\n",
      "  warnings.warn(ARIMA_DEPRECATION_WARN, FutureWarning)\n"
     ]
    }
   ],
   "source": [
    "# Create an ARIMA Model and fit it to the data\n",
    "model2 = ARIMA(df[\"Closing Price (USD)\"].values, order=(12, 1, 1))\n",
    "results2 = model2.fit()"
   ]
  },
  {
   "cell_type": "code",
   "execution_count": 21,
   "metadata": {},
   "outputs": [
    {
     "data": {
      "text/html": [
       "<table class=\"simpletable\">\n",
       "<caption>ARIMA Model Results</caption>\n",
       "<tr>\n",
       "  <th>Dep. Variable:</th>        <td>D.y</td>       <th>  No. Observations:  </th>    <td>203</td>  \n",
       "</tr>\n",
       "<tr>\n",
       "  <th>Model:</th>          <td>ARIMA(12, 1, 1)</td> <th>  Log Likelihood     </th>  <td>429.086</td>\n",
       "</tr>\n",
       "<tr>\n",
       "  <th>Method:</th>             <td>css-mle</td>     <th>  S.D. of innovations</th>   <td>0.029</td> \n",
       "</tr>\n",
       "<tr>\n",
       "  <th>Date:</th>          <td>Tue, 27 Jul 2021</td> <th>  AIC                </th> <td>-828.172</td>\n",
       "</tr>\n",
       "<tr>\n",
       "  <th>Time:</th>              <td>20:53:21</td>     <th>  BIC                </th> <td>-778.474</td>\n",
       "</tr>\n",
       "<tr>\n",
       "  <th>Sample:</th>                <td>1</td>        <th>  HQIC               </th> <td>-808.066</td>\n",
       "</tr>\n",
       "<tr>\n",
       "  <th></th>                       <td> </td>        <th>                     </th>     <td> </td>   \n",
       "</tr>\n",
       "</table>\n",
       "<table class=\"simpletable\">\n",
       "<tr>\n",
       "       <td></td>         <th>coef</th>     <th>std err</th>      <th>z</th>      <th>P>|z|</th>  <th>[0.025</th>    <th>0.975]</th>  \n",
       "</tr>\n",
       "<tr>\n",
       "  <th>const</th>      <td>    0.0010</td> <td>    0.002</td> <td>    0.470</td> <td> 0.638</td> <td>   -0.003</td> <td>    0.005</td>\n",
       "</tr>\n",
       "<tr>\n",
       "  <th>ar.L1.D.y</th>  <td>   -1.0191</td> <td>    0.070</td> <td>  -14.629</td> <td> 0.000</td> <td>   -1.156</td> <td>   -0.883</td>\n",
       "</tr>\n",
       "<tr>\n",
       "  <th>ar.L2.D.y</th>  <td>    0.0712</td> <td>    0.099</td> <td>    0.716</td> <td> 0.474</td> <td>   -0.124</td> <td>    0.266</td>\n",
       "</tr>\n",
       "<tr>\n",
       "  <th>ar.L3.D.y</th>  <td>    0.3783</td> <td>    0.100</td> <td>    3.787</td> <td> 0.000</td> <td>    0.183</td> <td>    0.574</td>\n",
       "</tr>\n",
       "<tr>\n",
       "  <th>ar.L4.D.y</th>  <td>    0.1856</td> <td>    0.102</td> <td>    1.813</td> <td> 0.070</td> <td>   -0.015</td> <td>    0.386</td>\n",
       "</tr>\n",
       "<tr>\n",
       "  <th>ar.L5.D.y</th>  <td>   -0.3045</td> <td>    0.103</td> <td>   -2.968</td> <td> 0.003</td> <td>   -0.506</td> <td>   -0.103</td>\n",
       "</tr>\n",
       "<tr>\n",
       "  <th>ar.L6.D.y</th>  <td>   -0.4313</td> <td>    0.105</td> <td>   -4.110</td> <td> 0.000</td> <td>   -0.637</td> <td>   -0.226</td>\n",
       "</tr>\n",
       "<tr>\n",
       "  <th>ar.L7.D.y</th>  <td>   -0.0462</td> <td>    0.105</td> <td>   -0.442</td> <td> 0.659</td> <td>   -0.251</td> <td>    0.159</td>\n",
       "</tr>\n",
       "<tr>\n",
       "  <th>ar.L8.D.y</th>  <td>    0.1156</td> <td>    0.102</td> <td>    1.132</td> <td> 0.258</td> <td>   -0.085</td> <td>    0.316</td>\n",
       "</tr>\n",
       "<tr>\n",
       "  <th>ar.L9.D.y</th>  <td>    0.1012</td> <td>    0.101</td> <td>    0.997</td> <td> 0.319</td> <td>   -0.098</td> <td>    0.300</td>\n",
       "</tr>\n",
       "<tr>\n",
       "  <th>ar.L10.D.y</th> <td>    0.0588</td> <td>    0.098</td> <td>    0.600</td> <td> 0.548</td> <td>   -0.133</td> <td>    0.251</td>\n",
       "</tr>\n",
       "<tr>\n",
       "  <th>ar.L11.D.y</th> <td>   -0.0313</td> <td>    0.098</td> <td>   -0.320</td> <td> 0.749</td> <td>   -0.223</td> <td>    0.160</td>\n",
       "</tr>\n",
       "<tr>\n",
       "  <th>ar.L12.D.y</th> <td>   -0.0905</td> <td>    0.068</td> <td>   -1.323</td> <td> 0.186</td> <td>   -0.225</td> <td>    0.044</td>\n",
       "</tr>\n",
       "<tr>\n",
       "  <th>ma.L1.D.y</th>  <td>    1.0000</td> <td>    0.079</td> <td>   12.623</td> <td> 0.000</td> <td>    0.845</td> <td>    1.155</td>\n",
       "</tr>\n",
       "</table>\n",
       "<table class=\"simpletable\">\n",
       "<caption>Roots</caption>\n",
       "<tr>\n",
       "    <td></td>    <th>            Real</th>  <th>         Imaginary</th> <th>         Modulus</th>  <th>        Frequency</th>\n",
       "</tr>\n",
       "<tr>\n",
       "  <th>AR.1</th>  <td>          -1.0465</td> <td>          -0.1873j</td> <td>           1.0631</td> <td>          -0.4718</td>\n",
       "</tr>\n",
       "<tr>\n",
       "  <th>AR.2</th>  <td>          -1.0465</td> <td>          +0.1873j</td> <td>           1.0631</td> <td>           0.4718</td>\n",
       "</tr>\n",
       "<tr>\n",
       "  <th>AR.3</th>  <td>          -1.0213</td> <td>          -0.6928j</td> <td>           1.2341</td> <td>          -0.4051</td>\n",
       "</tr>\n",
       "<tr>\n",
       "  <th>AR.4</th>  <td>          -1.0213</td> <td>          +0.6928j</td> <td>           1.2341</td> <td>           0.4051</td>\n",
       "</tr>\n",
       "<tr>\n",
       "  <th>AR.5</th>  <td>          -0.4158</td> <td>          -1.0744j</td> <td>           1.1520</td> <td>          -0.3088</td>\n",
       "</tr>\n",
       "<tr>\n",
       "  <th>AR.6</th>  <td>          -0.4158</td> <td>          +1.0744j</td> <td>           1.1520</td> <td>           0.3088</td>\n",
       "</tr>\n",
       "<tr>\n",
       "  <th>AR.7</th>  <td>           0.0668</td> <td>          -1.3537j</td> <td>           1.3553</td> <td>          -0.2422</td>\n",
       "</tr>\n",
       "<tr>\n",
       "  <th>AR.8</th>  <td>           0.0668</td> <td>          +1.3537j</td> <td>           1.3553</td> <td>           0.2422</td>\n",
       "</tr>\n",
       "<tr>\n",
       "  <th>AR.9</th>  <td>           0.9350</td> <td>          -0.7320j</td> <td>           1.1875</td> <td>          -0.1057</td>\n",
       "</tr>\n",
       "<tr>\n",
       "  <th>AR.10</th> <td>           0.9350</td> <td>          +0.7320j</td> <td>           1.1875</td> <td>           0.1057</td>\n",
       "</tr>\n",
       "<tr>\n",
       "  <th>AR.11</th> <td>           1.3088</td> <td>          -0.3933j</td> <td>           1.3666</td> <td>          -0.0465</td>\n",
       "</tr>\n",
       "<tr>\n",
       "  <th>AR.12</th> <td>           1.3088</td> <td>          +0.3933j</td> <td>           1.3666</td> <td>           0.0465</td>\n",
       "</tr>\n",
       "<tr>\n",
       "  <th>MA.1</th>  <td>          -1.0000</td> <td>          +0.0000j</td> <td>           1.0000</td> <td>           0.5000</td>\n",
       "</tr>\n",
       "</table>"
      ],
      "text/plain": [
       "<class 'statsmodels.iolib.summary.Summary'>\n",
       "\"\"\"\n",
       "                             ARIMA Model Results                              \n",
       "==============================================================================\n",
       "Dep. Variable:                    D.y   No. Observations:                  203\n",
       "Model:                ARIMA(12, 1, 1)   Log Likelihood                 429.086\n",
       "Method:                       css-mle   S.D. of innovations              0.029\n",
       "Date:                Tue, 27 Jul 2021   AIC                           -828.172\n",
       "Time:                        20:53:21   BIC                           -778.474\n",
       "Sample:                             1   HQIC                          -808.066\n",
       "                                                                              \n",
       "==============================================================================\n",
       "                 coef    std err          z      P>|z|      [0.025      0.975]\n",
       "------------------------------------------------------------------------------\n",
       "const          0.0010      0.002      0.470      0.638      -0.003       0.005\n",
       "ar.L1.D.y     -1.0191      0.070    -14.629      0.000      -1.156      -0.883\n",
       "ar.L2.D.y      0.0712      0.099      0.716      0.474      -0.124       0.266\n",
       "ar.L3.D.y      0.3783      0.100      3.787      0.000       0.183       0.574\n",
       "ar.L4.D.y      0.1856      0.102      1.813      0.070      -0.015       0.386\n",
       "ar.L5.D.y     -0.3045      0.103     -2.968      0.003      -0.506      -0.103\n",
       "ar.L6.D.y     -0.4313      0.105     -4.110      0.000      -0.637      -0.226\n",
       "ar.L7.D.y     -0.0462      0.105     -0.442      0.659      -0.251       0.159\n",
       "ar.L8.D.y      0.1156      0.102      1.132      0.258      -0.085       0.316\n",
       "ar.L9.D.y      0.1012      0.101      0.997      0.319      -0.098       0.300\n",
       "ar.L10.D.y     0.0588      0.098      0.600      0.548      -0.133       0.251\n",
       "ar.L11.D.y    -0.0313      0.098     -0.320      0.749      -0.223       0.160\n",
       "ar.L12.D.y    -0.0905      0.068     -1.323      0.186      -0.225       0.044\n",
       "ma.L1.D.y      1.0000      0.079     12.623      0.000       0.845       1.155\n",
       "                                    Roots                                     \n",
       "==============================================================================\n",
       "                   Real          Imaginary           Modulus         Frequency\n",
       "------------------------------------------------------------------------------\n",
       "AR.1            -1.0465           -0.1873j            1.0631           -0.4718\n",
       "AR.2            -1.0465           +0.1873j            1.0631            0.4718\n",
       "AR.3            -1.0213           -0.6928j            1.2341           -0.4051\n",
       "AR.4            -1.0213           +0.6928j            1.2341            0.4051\n",
       "AR.5            -0.4158           -1.0744j            1.1520           -0.3088\n",
       "AR.6            -0.4158           +1.0744j            1.1520            0.3088\n",
       "AR.7             0.0668           -1.3537j            1.3553           -0.2422\n",
       "AR.8             0.0668           +1.3537j            1.3553            0.2422\n",
       "AR.9             0.9350           -0.7320j            1.1875           -0.1057\n",
       "AR.10            0.9350           +0.7320j            1.1875            0.1057\n",
       "AR.11            1.3088           -0.3933j            1.3666           -0.0465\n",
       "AR.12            1.3088           +0.3933j            1.3666            0.0465\n",
       "MA.1            -1.0000           +0.0000j            1.0000            0.5000\n",
       "------------------------------------------------------------------------------\n",
       "\"\"\""
      ]
     },
     "execution_count": 21,
     "metadata": {},
     "output_type": "execute_result"
    }
   ],
   "source": [
    "# print the model summary\n",
    "results2.summary()"
   ]
  },
  {
   "cell_type": "code",
   "execution_count": 16,
   "metadata": {},
   "outputs": [
    {
     "data": {
      "text/plain": [
       "<AxesSubplot:title={'center':'Futures Forecast'}>"
      ]
     },
     "execution_count": 16,
     "metadata": {},
     "output_type": "execute_result"
    },
    {
     "data": {
      "image/png": "[encoded data removed]",
      "text/plain": [
       "<Figure size 432x288 with 1 Axes>"
      ]
     },
     "metadata": {
      "needs_background": "light"
     },
     "output_type": "display_data"
    }
   ],
   "source": [
    "# Plot the Futures Price Forecast\n",
    "pd.DataFrame(results2.forecast(steps=10)[0]).plot(title=\"Futures Forecast\")"
   ]
  },
  {
   "cell_type": "code",
   "execution_count": null,
   "metadata": {},
   "outputs": [],
   "source": []
  }
 ],
 "metadata": {
  "kernelspec": {
   "display_name": "Python 3",
   "language": "python",
   "name": "python3"
  },
  "language_info": {
   "codemirror_mode": {
    "name": "ipython",
    "version": 3
   },
   "file_extension": ".py",
   "mimetype": "text/x-python",
   "name": "python",
   "nbconvert_exporter": "python",
   "pygments_lexer": "ipython3",
   "version": "3.8.5"
  }
 },
 "nbformat": 4,
 "nbformat_minor": 4
}
