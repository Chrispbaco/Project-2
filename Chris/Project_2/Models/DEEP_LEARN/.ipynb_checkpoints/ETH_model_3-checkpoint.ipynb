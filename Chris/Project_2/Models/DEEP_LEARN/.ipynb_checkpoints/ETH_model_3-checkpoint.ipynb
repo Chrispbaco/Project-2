{
 "cells": [
  {
   "cell_type": "code",
   "execution_count": 31,
   "metadata": {},
   "outputs": [],
   "source": [
    "# Initial imports\n",
    "import numpy as np\n",
    "import pandas as pd\n",
    "from pathlib import Path\n",
    "\n",
    "%matplotlib inline"
   ]
  },
  {
   "cell_type": "code",
   "execution_count": 32,
   "metadata": {},
   "outputs": [],
   "source": [
    " # Set path to CSV and read in CSV\n",
    "csv_path = Path(\"DATA/ETH/ETH_DATA.csv\")\n",
    "eth_df=pd.read_csv(csv_path)"
   ]
  },
  {
   "cell_type": "code",
   "execution_count": 33,
   "metadata": {},
   "outputs": [
    {
     "data": {
      "text/html": [
       "<div>\n",
       "<style scoped>\n",
       "    .dataframe tbody tr th:only-of-type {\n",
       "        vertical-align: middle;\n",
       "    }\n",
       "\n",
       "    .dataframe tbody tr th {\n",
       "        vertical-align: top;\n",
       "    }\n",
       "\n",
       "    .dataframe thead th {\n",
       "        text-align: right;\n",
       "    }\n",
       "</style>\n",
       "<table border=\"1\" class=\"dataframe\">\n",
       "  <thead>\n",
       "    <tr style=\"text-align: right;\">\n",
       "      <th></th>\n",
       "      <th>Currency</th>\n",
       "      <th>Date</th>\n",
       "      <th>Closing Price (USD)</th>\n",
       "      <th>24h Open (USD)</th>\n",
       "      <th>24h High (USD)</th>\n",
       "      <th>24h Low (USD)</th>\n",
       "    </tr>\n",
       "    <tr>\n",
       "      <th>Date</th>\n",
       "      <th></th>\n",
       "      <th></th>\n",
       "      <th></th>\n",
       "      <th></th>\n",
       "      <th></th>\n",
       "      <th></th>\n",
       "    </tr>\n",
       "  </thead>\n",
       "  <tbody>\n",
       "    <tr>\n",
       "      <th>2015-08-09</th>\n",
       "      <td>ETH</td>\n",
       "      <td>2015-08-09</td>\n",
       "      <td>0.909046</td>\n",
       "      <td>1.749289</td>\n",
       "      <td>1.916540</td>\n",
       "      <td>0.794497</td>\n",
       "    </tr>\n",
       "    <tr>\n",
       "      <th>2015-08-10</th>\n",
       "      <td>ETH</td>\n",
       "      <td>2015-08-10</td>\n",
       "      <td>0.692321</td>\n",
       "      <td>0.909046</td>\n",
       "      <td>0.909046</td>\n",
       "      <td>0.692321</td>\n",
       "    </tr>\n",
       "    <tr>\n",
       "      <th>2015-08-11</th>\n",
       "      <td>ETH</td>\n",
       "      <td>2015-08-11</td>\n",
       "      <td>0.668067</td>\n",
       "      <td>0.692321</td>\n",
       "      <td>0.692321</td>\n",
       "      <td>0.654331</td>\n",
       "    </tr>\n",
       "    <tr>\n",
       "      <th>2015-08-12</th>\n",
       "      <td>ETH</td>\n",
       "      <td>2015-08-12</td>\n",
       "      <td>0.850151</td>\n",
       "      <td>0.668067</td>\n",
       "      <td>1.148621</td>\n",
       "      <td>0.668067</td>\n",
       "    </tr>\n",
       "    <tr>\n",
       "      <th>2015-08-13</th>\n",
       "      <td>ETH</td>\n",
       "      <td>2015-08-13</td>\n",
       "      <td>1.266023</td>\n",
       "      <td>0.850151</td>\n",
       "      <td>1.266023</td>\n",
       "      <td>0.850151</td>\n",
       "    </tr>\n",
       "    <tr>\n",
       "      <th>2015-08-14</th>\n",
       "      <td>ETH</td>\n",
       "      <td>2015-08-14</td>\n",
       "      <td>1.951460</td>\n",
       "      <td>1.266023</td>\n",
       "      <td>2.073329</td>\n",
       "      <td>1.149458</td>\n",
       "    </tr>\n",
       "    <tr>\n",
       "      <th>2015-08-15</th>\n",
       "      <td>ETH</td>\n",
       "      <td>2015-08-15</td>\n",
       "      <td>1.591219</td>\n",
       "      <td>1.951460</td>\n",
       "      <td>2.225695</td>\n",
       "      <td>1.591219</td>\n",
       "    </tr>\n",
       "    <tr>\n",
       "      <th>2015-08-16</th>\n",
       "      <td>ETH</td>\n",
       "      <td>2015-08-16</td>\n",
       "      <td>1.693707</td>\n",
       "      <td>1.591219</td>\n",
       "      <td>1.768860</td>\n",
       "      <td>1.591219</td>\n",
       "    </tr>\n",
       "    <tr>\n",
       "      <th>2015-08-17</th>\n",
       "      <td>ETH</td>\n",
       "      <td>2015-08-17</td>\n",
       "      <td>1.423244</td>\n",
       "      <td>1.693707</td>\n",
       "      <td>1.693707</td>\n",
       "      <td>1.099489</td>\n",
       "    </tr>\n",
       "    <tr>\n",
       "      <th>2015-08-18</th>\n",
       "      <td>ETH</td>\n",
       "      <td>2015-08-18</td>\n",
       "      <td>1.199595</td>\n",
       "      <td>1.423244</td>\n",
       "      <td>1.469168</td>\n",
       "      <td>1.193790</td>\n",
       "    </tr>\n",
       "  </tbody>\n",
       "</table>\n",
       "</div>"
      ],
      "text/plain": [
       "           Currency        Date  Closing Price (USD)  24h Open (USD)  \\\n",
       "Date                                                                   \n",
       "2015-08-09      ETH  2015-08-09             0.909046        1.749289   \n",
       "2015-08-10      ETH  2015-08-10             0.692321        0.909046   \n",
       "2015-08-11      ETH  2015-08-11             0.668067        0.692321   \n",
       "2015-08-12      ETH  2015-08-12             0.850151        0.668067   \n",
       "2015-08-13      ETH  2015-08-13             1.266023        0.850151   \n",
       "2015-08-14      ETH  2015-08-14             1.951460        1.266023   \n",
       "2015-08-15      ETH  2015-08-15             1.591219        1.951460   \n",
       "2015-08-16      ETH  2015-08-16             1.693707        1.591219   \n",
       "2015-08-17      ETH  2015-08-17             1.423244        1.693707   \n",
       "2015-08-18      ETH  2015-08-18             1.199595        1.423244   \n",
       "\n",
       "            24h High (USD)  24h Low (USD)  \n",
       "Date                                       \n",
       "2015-08-09        1.916540       0.794497  \n",
       "2015-08-10        0.909046       0.692321  \n",
       "2015-08-11        0.692321       0.654331  \n",
       "2015-08-12        1.148621       0.668067  \n",
       "2015-08-13        1.266023       0.850151  \n",
       "2015-08-14        2.073329       1.149458  \n",
       "2015-08-15        2.225695       1.591219  \n",
       "2015-08-16        1.768860       1.591219  \n",
       "2015-08-17        1.693707       1.099489  \n",
       "2015-08-18        1.469168       1.193790  "
      ]
     },
     "execution_count": 33,
     "metadata": {},
     "output_type": "execute_result"
    }
   ],
   "source": [
    " # Set index as Date\n",
    "eth_df = eth_df.set_index(pd.to_datetime(eth_df[\"Date\"], infer_datetime_format=True))\n",
    "\n",
    "# Display sample data\n",
    "eth_df.head(10)"
   ]
  },
  {
   "cell_type": "code",
   "execution_count": 34,
   "metadata": {},
   "outputs": [
    {
     "data": {
      "text/plain": [
       "False"
      ]
     },
     "execution_count": 34,
     "metadata": {},
     "output_type": "execute_result"
    }
   ],
   "source": [
    "#check for na\n",
    "eth_df.isnull().values.any()"
   ]
  },
  {
   "cell_type": "code",
   "execution_count": 35,
   "metadata": {},
   "outputs": [
    {
     "data": {
      "text/html": [
       "<div>\n",
       "<style scoped>\n",
       "    .dataframe tbody tr th:only-of-type {\n",
       "        vertical-align: middle;\n",
       "    }\n",
       "\n",
       "    .dataframe tbody tr th {\n",
       "        vertical-align: top;\n",
       "    }\n",
       "\n",
       "    .dataframe thead th {\n",
       "        text-align: right;\n",
       "    }\n",
       "</style>\n",
       "<table border=\"1\" class=\"dataframe\">\n",
       "  <thead>\n",
       "    <tr style=\"text-align: right;\">\n",
       "      <th></th>\n",
       "      <th>Currency</th>\n",
       "      <th>Date</th>\n",
       "      <th>Closing Price (USD)</th>\n",
       "      <th>24h Open (USD)</th>\n",
       "      <th>24h High (USD)</th>\n",
       "      <th>24h Low (USD)</th>\n",
       "    </tr>\n",
       "    <tr>\n",
       "      <th>Date</th>\n",
       "      <th></th>\n",
       "      <th></th>\n",
       "      <th></th>\n",
       "      <th></th>\n",
       "      <th></th>\n",
       "      <th></th>\n",
       "    </tr>\n",
       "  </thead>\n",
       "  <tbody>\n",
       "    <tr>\n",
       "      <th>2015-08-09</th>\n",
       "      <td>ETH</td>\n",
       "      <td>2015-08-09</td>\n",
       "      <td>0.909046</td>\n",
       "      <td>1.749289</td>\n",
       "      <td>1.916540</td>\n",
       "      <td>0.794497</td>\n",
       "    </tr>\n",
       "    <tr>\n",
       "      <th>2015-08-10</th>\n",
       "      <td>ETH</td>\n",
       "      <td>2015-08-10</td>\n",
       "      <td>0.692321</td>\n",
       "      <td>0.909046</td>\n",
       "      <td>0.909046</td>\n",
       "      <td>0.692321</td>\n",
       "    </tr>\n",
       "    <tr>\n",
       "      <th>2015-08-11</th>\n",
       "      <td>ETH</td>\n",
       "      <td>2015-08-11</td>\n",
       "      <td>0.668067</td>\n",
       "      <td>0.692321</td>\n",
       "      <td>0.692321</td>\n",
       "      <td>0.654331</td>\n",
       "    </tr>\n",
       "    <tr>\n",
       "      <th>2015-08-12</th>\n",
       "      <td>ETH</td>\n",
       "      <td>2015-08-12</td>\n",
       "      <td>0.850151</td>\n",
       "      <td>0.668067</td>\n",
       "      <td>1.148621</td>\n",
       "      <td>0.668067</td>\n",
       "    </tr>\n",
       "    <tr>\n",
       "      <th>2015-08-13</th>\n",
       "      <td>ETH</td>\n",
       "      <td>2015-08-13</td>\n",
       "      <td>1.266023</td>\n",
       "      <td>0.850151</td>\n",
       "      <td>1.266023</td>\n",
       "      <td>0.850151</td>\n",
       "    </tr>\n",
       "  </tbody>\n",
       "</table>\n",
       "</div>"
      ],
      "text/plain": [
       "           Currency        Date  Closing Price (USD)  24h Open (USD)  \\\n",
       "Date                                                                   \n",
       "2015-08-09      ETH  2015-08-09             0.909046        1.749289   \n",
       "2015-08-10      ETH  2015-08-10             0.692321        0.909046   \n",
       "2015-08-11      ETH  2015-08-11             0.668067        0.692321   \n",
       "2015-08-12      ETH  2015-08-12             0.850151        0.668067   \n",
       "2015-08-13      ETH  2015-08-13             1.266023        0.850151   \n",
       "\n",
       "            24h High (USD)  24h Low (USD)  \n",
       "Date                                       \n",
       "2015-08-09        1.916540       0.794497  \n",
       "2015-08-10        0.909046       0.692321  \n",
       "2015-08-11        0.692321       0.654331  \n",
       "2015-08-12        1.148621       0.668067  \n",
       "2015-08-13        1.266023       0.850151  "
      ]
     },
     "execution_count": 35,
     "metadata": {},
     "output_type": "execute_result"
    }
   ],
   "source": [
    "#check main_df to see if everything is correct \n",
    "eth_df.head()"
   ]
  },
  {
   "cell_type": "code",
   "execution_count": 36,
   "metadata": {},
   "outputs": [],
   "source": [
    " # Importing required Keras modules\n",
    "from tensorflow.keras.models import Sequential\n",
    "from tensorflow.keras.layers import LSTM, Dense, Dropout"
   ]
  },
  {
   "cell_type": "code",
   "execution_count": 37,
   "metadata": {},
   "outputs": [],
   "source": [
    "#assign atributes to names\n",
    "#future period desides how many days ahead data will be \n",
    "FUTURE_PERIOD_PREDICT = 3"
   ]
  },
  {
   "cell_type": "code",
   "execution_count": 38,
   "metadata": {},
   "outputs": [],
   "source": [
    "#set data 3 days back to compensate for lag\n",
    "def add_future_column(eth_df):\n",
    "    main_df= eth_df.copy()\n",
    "    main_df['future'] = eth_df[\"Closing Price (USD)\"].shift(-FUTURE_PERIOD_PREDICT)\n",
    "    \n",
    "    main_df.dropna(inplace=True)\n",
    "\n",
    "    main_df.head()\n",
    "    \n",
    "    return main_df"
   ]
  },
  {
   "cell_type": "code",
   "execution_count": 39,
   "metadata": {},
   "outputs": [
    {
     "data": {
      "text/html": [
       "<div>\n",
       "<style scoped>\n",
       "    .dataframe tbody tr th:only-of-type {\n",
       "        vertical-align: middle;\n",
       "    }\n",
       "\n",
       "    .dataframe tbody tr th {\n",
       "        vertical-align: top;\n",
       "    }\n",
       "\n",
       "    .dataframe thead th {\n",
       "        text-align: right;\n",
       "    }\n",
       "</style>\n",
       "<table border=\"1\" class=\"dataframe\">\n",
       "  <thead>\n",
       "    <tr style=\"text-align: right;\">\n",
       "      <th></th>\n",
       "      <th>Currency</th>\n",
       "      <th>Date</th>\n",
       "      <th>Closing Price (USD)</th>\n",
       "      <th>24h Open (USD)</th>\n",
       "      <th>24h High (USD)</th>\n",
       "      <th>24h Low (USD)</th>\n",
       "      <th>future</th>\n",
       "    </tr>\n",
       "    <tr>\n",
       "      <th>Date</th>\n",
       "      <th></th>\n",
       "      <th></th>\n",
       "      <th></th>\n",
       "      <th></th>\n",
       "      <th></th>\n",
       "      <th></th>\n",
       "      <th></th>\n",
       "    </tr>\n",
       "  </thead>\n",
       "  <tbody>\n",
       "    <tr>\n",
       "      <th>2015-08-09</th>\n",
       "      <td>ETH</td>\n",
       "      <td>2015-08-09</td>\n",
       "      <td>0.909046</td>\n",
       "      <td>1.749289</td>\n",
       "      <td>1.916540</td>\n",
       "      <td>0.794497</td>\n",
       "      <td>0.850151</td>\n",
       "    </tr>\n",
       "    <tr>\n",
       "      <th>2015-08-10</th>\n",
       "      <td>ETH</td>\n",
       "      <td>2015-08-10</td>\n",
       "      <td>0.692321</td>\n",
       "      <td>0.909046</td>\n",
       "      <td>0.909046</td>\n",
       "      <td>0.692321</td>\n",
       "      <td>1.266023</td>\n",
       "    </tr>\n",
       "    <tr>\n",
       "      <th>2015-08-11</th>\n",
       "      <td>ETH</td>\n",
       "      <td>2015-08-11</td>\n",
       "      <td>0.668067</td>\n",
       "      <td>0.692321</td>\n",
       "      <td>0.692321</td>\n",
       "      <td>0.654331</td>\n",
       "      <td>1.951460</td>\n",
       "    </tr>\n",
       "    <tr>\n",
       "      <th>2015-08-12</th>\n",
       "      <td>ETH</td>\n",
       "      <td>2015-08-12</td>\n",
       "      <td>0.850151</td>\n",
       "      <td>0.668067</td>\n",
       "      <td>1.148621</td>\n",
       "      <td>0.668067</td>\n",
       "      <td>1.591219</td>\n",
       "    </tr>\n",
       "    <tr>\n",
       "      <th>2015-08-13</th>\n",
       "      <td>ETH</td>\n",
       "      <td>2015-08-13</td>\n",
       "      <td>1.266023</td>\n",
       "      <td>0.850151</td>\n",
       "      <td>1.266023</td>\n",
       "      <td>0.850151</td>\n",
       "      <td>1.693707</td>\n",
       "    </tr>\n",
       "  </tbody>\n",
       "</table>\n",
       "</div>"
      ],
      "text/plain": [
       "           Currency        Date  Closing Price (USD)  24h Open (USD)  \\\n",
       "Date                                                                   \n",
       "2015-08-09      ETH  2015-08-09             0.909046        1.749289   \n",
       "2015-08-10      ETH  2015-08-10             0.692321        0.909046   \n",
       "2015-08-11      ETH  2015-08-11             0.668067        0.692321   \n",
       "2015-08-12      ETH  2015-08-12             0.850151        0.668067   \n",
       "2015-08-13      ETH  2015-08-13             1.266023        0.850151   \n",
       "\n",
       "            24h High (USD)  24h Low (USD)    future  \n",
       "Date                                                 \n",
       "2015-08-09        1.916540       0.794497  0.850151  \n",
       "2015-08-10        0.909046       0.692321  1.266023  \n",
       "2015-08-11        0.692321       0.654331  1.951460  \n",
       "2015-08-12        1.148621       0.668067  1.591219  \n",
       "2015-08-13        1.266023       0.850151  1.693707  "
      ]
     },
     "execution_count": 39,
     "metadata": {},
     "output_type": "execute_result"
    }
   ],
   "source": [
    "#run df thorugh the function to add future coulumn to eth_eval\n",
    "main_df = add_future_column(eth_df)\n",
    "main_df.head()"
   ]
  },
  {
   "cell_type": "code",
   "execution_count": null,
   "metadata": {},
   "outputs": [],
   "source": []
  },
  {
   "cell_type": "code",
   "execution_count": 140,
   "metadata": {},
   "outputs": [],
   "source": [
    "def get_data():\n",
    "    \n",
    "     # Set path to CSV and read in CSV\n",
    "    csv_path = Path(\"DATA/ETH/ETH_DATA.csv\")\n",
    "    eth_df=pd.read_csv(csv_path)\n",
    "    \n",
    "     # Set index as Date\n",
    "    eth_df = eth_df.set_index(pd.to_datetime(eth_df[\"Date\"], infer_datetime_format=True))\n",
    "    \n",
    "    #run df thorugh the function to add future coulumn to eth_eval\n",
    "    main_df = add_future_column(eth_df)\n",
    "    # save data coulmnn \n",
    "    date = main_df.Date\n",
    "    \n",
    "    \n",
    "    #remove eth column \n",
    "    main_df = main_df.drop(columns = ['Currency'])\n",
    "    main_df = main_df.drop(columns= ['Date'])\n",
    "\n",
    "    columns = main_df.columns\n",
    "    \n",
    "    \n",
    "    # Importing the MinMaxScaler from sklearn\n",
    "    from sklearn.preprocessing import MinMaxScaler\n",
    "\n",
    "    # Create a MinMaxScaler object\n",
    "    scaler = MinMaxScaler()\n",
    "\n",
    "    scaler.fit(main_df)\n",
    "    \n",
    "    main_array = scaler.transform(main_df)\n",
    "    \n",
    "    RES = pd.DataFrame(data=main_array, columns = columns)\n",
    "    \n",
    "    RES = RES.set_index(date)\n",
    "    \n",
    "    \n",
    "    \n",
    "    return RES,scaler"
   ]
  },
  {
   "cell_type": "code",
   "execution_count": 141,
   "metadata": {},
   "outputs": [],
   "source": [
    "#reshape\n",
    "def expand_windowed_data(X1,length_of_sample):\n",
    "    \"\"\"LSTM is expecting a 3-D data structure with (batch number, time steps, features)\"\"\"\n",
    "    X2 = create_rolling_windows(X1, length_of_sample)\n",
    "    X3 = X2.reshape(-1, length_of_sample, X1.shape[1])\n",
    "    return X3 "
   ]
  },
  {
   "cell_type": "code",
   "execution_count": 142,
   "metadata": {},
   "outputs": [],
   "source": [
    "def create_rolling_windows(values, count):\n",
    "    \"\"\"create a set of records that have the first count rows, then the same number of rows offset by one etc.\n",
    "    example=abcdefghijklmn\n",
    "    create_rolling_window(example, 3)\n",
    "    would return abcbcdcdedefefgfghghihijijkjklklmlmn\"\"\"\n",
    "    firstitem = values[:count]\n",
    "    items = [values[window_start:window_start + count] for window_start in range(1, 1 + len(values) - count)]\n",
    "    total = np.append(firstitem, items)\n",
    "    return total"
   ]
  },
  {
   "cell_type": "code",
   "execution_count": 143,
   "metadata": {},
   "outputs": [],
   "source": [
    "main_df, scaler = get_data()"
   ]
  },
  {
   "cell_type": "code",
   "execution_count": 144,
   "metadata": {},
   "outputs": [
    {
     "data": {
      "text/html": [
       "<div>\n",
       "<style scoped>\n",
       "    .dataframe tbody tr th:only-of-type {\n",
       "        vertical-align: middle;\n",
       "    }\n",
       "\n",
       "    .dataframe tbody tr th {\n",
       "        vertical-align: top;\n",
       "    }\n",
       "\n",
       "    .dataframe thead th {\n",
       "        text-align: right;\n",
       "    }\n",
       "</style>\n",
       "<table border=\"1\" class=\"dataframe\">\n",
       "  <thead>\n",
       "    <tr style=\"text-align: right;\">\n",
       "      <th></th>\n",
       "      <th>Closing Price (USD)</th>\n",
       "      <th>24h Open (USD)</th>\n",
       "      <th>24h High (USD)</th>\n",
       "      <th>24h Low (USD)</th>\n",
       "      <th>future</th>\n",
       "    </tr>\n",
       "    <tr>\n",
       "      <th>Date</th>\n",
       "      <th></th>\n",
       "      <th></th>\n",
       "      <th></th>\n",
       "      <th></th>\n",
       "      <th></th>\n",
       "    </tr>\n",
       "  </thead>\n",
       "  <tbody>\n",
       "    <tr>\n",
       "      <th>2015-08-09</th>\n",
       "      <td>0.000116</td>\n",
       "      <td>0.000316</td>\n",
       "      <td>0.000325</td>\n",
       "      <td>0.000096</td>\n",
       "      <td>0.000102</td>\n",
       "    </tr>\n",
       "    <tr>\n",
       "      <th>2015-08-10</th>\n",
       "      <td>0.000064</td>\n",
       "      <td>0.000115</td>\n",
       "      <td>0.000096</td>\n",
       "      <td>0.000070</td>\n",
       "      <td>0.000203</td>\n",
       "    </tr>\n",
       "    <tr>\n",
       "      <th>2015-08-11</th>\n",
       "      <td>0.000058</td>\n",
       "      <td>0.000063</td>\n",
       "      <td>0.000046</td>\n",
       "      <td>0.000060</td>\n",
       "      <td>0.000369</td>\n",
       "    </tr>\n",
       "    <tr>\n",
       "      <th>2015-08-12</th>\n",
       "      <td>0.000102</td>\n",
       "      <td>0.000057</td>\n",
       "      <td>0.000150</td>\n",
       "      <td>0.000064</td>\n",
       "      <td>0.000281</td>\n",
       "    </tr>\n",
       "    <tr>\n",
       "      <th>2015-08-13</th>\n",
       "      <td>0.000203</td>\n",
       "      <td>0.000101</td>\n",
       "      <td>0.000177</td>\n",
       "      <td>0.000110</td>\n",
       "      <td>0.000306</td>\n",
       "    </tr>\n",
       "    <tr>\n",
       "      <th>...</th>\n",
       "      <td>...</td>\n",
       "      <td>...</td>\n",
       "      <td>...</td>\n",
       "      <td>...</td>\n",
       "      <td>...</td>\n",
       "    </tr>\n",
       "    <tr>\n",
       "      <th>2021-07-19</th>\n",
       "      <td>0.442534</td>\n",
       "      <td>0.452552</td>\n",
       "      <td>0.437966</td>\n",
       "      <td>0.458085</td>\n",
       "      <td>0.485271</td>\n",
       "    </tr>\n",
       "    <tr>\n",
       "      <th>2021-07-20</th>\n",
       "      <td>0.429891</td>\n",
       "      <td>0.435115</td>\n",
       "      <td>0.420265</td>\n",
       "      <td>0.436956</td>\n",
       "      <td>0.503232</td>\n",
       "    </tr>\n",
       "    <tr>\n",
       "      <th>2021-07-21</th>\n",
       "      <td>0.476256</td>\n",
       "      <td>0.427497</td>\n",
       "      <td>0.463770</td>\n",
       "      <td>0.445578</td>\n",
       "      <td>0.524497</td>\n",
       "    </tr>\n",
       "    <tr>\n",
       "      <th>2021-07-22</th>\n",
       "      <td>0.485271</td>\n",
       "      <td>0.477577</td>\n",
       "      <td>0.467042</td>\n",
       "      <td>0.495249</td>\n",
       "      <td>0.522859</td>\n",
       "    </tr>\n",
       "    <tr>\n",
       "      <th>2021-07-23</th>\n",
       "      <td>0.503232</td>\n",
       "      <td>0.484508</td>\n",
       "      <td>0.477946</td>\n",
       "      <td>0.506904</td>\n",
       "      <td>0.538513</td>\n",
       "    </tr>\n",
       "  </tbody>\n",
       "</table>\n",
       "<p>2176 rows × 5 columns</p>\n",
       "</div>"
      ],
      "text/plain": [
       "            Closing Price (USD)  24h Open (USD)  24h High (USD)  \\\n",
       "Date                                                              \n",
       "2015-08-09             0.000116        0.000316        0.000325   \n",
       "2015-08-10             0.000064        0.000115        0.000096   \n",
       "2015-08-11             0.000058        0.000063        0.000046   \n",
       "2015-08-12             0.000102        0.000057        0.000150   \n",
       "2015-08-13             0.000203        0.000101        0.000177   \n",
       "...                         ...             ...             ...   \n",
       "2021-07-19             0.442534        0.452552        0.437966   \n",
       "2021-07-20             0.429891        0.435115        0.420265   \n",
       "2021-07-21             0.476256        0.427497        0.463770   \n",
       "2021-07-22             0.485271        0.477577        0.467042   \n",
       "2021-07-23             0.503232        0.484508        0.477946   \n",
       "\n",
       "            24h Low (USD)    future  \n",
       "Date                                 \n",
       "2015-08-09       0.000096  0.000102  \n",
       "2015-08-10       0.000070  0.000203  \n",
       "2015-08-11       0.000060  0.000369  \n",
       "2015-08-12       0.000064  0.000281  \n",
       "2015-08-13       0.000110  0.000306  \n",
       "...                   ...       ...  \n",
       "2021-07-19       0.458085  0.485271  \n",
       "2021-07-20       0.436956  0.503232  \n",
       "2021-07-21       0.445578  0.524497  \n",
       "2021-07-22       0.495249  0.522859  \n",
       "2021-07-23       0.506904  0.538513  \n",
       "\n",
       "[2176 rows x 5 columns]"
      ]
     },
     "execution_count": 144,
     "metadata": {},
     "output_type": "execute_result"
    }
   ],
   "source": [
    "main_df"
   ]
  },
  {
   "cell_type": "code",
   "execution_count": 145,
   "metadata": {},
   "outputs": [],
   "source": [
    "X1= main_df[[\"Closing Price (USD)\"]].to_numpy()\n",
    "y1 = main_df[[\"future\"]].to_numpy()"
   ]
  },
  {
   "cell_type": "code",
   "execution_count": 147,
   "metadata": {},
   "outputs": [],
   "source": [
    "#split data\n",
    "split = int(0.7 * len(X1))\n",
    "X_train = X1[: split]\n",
    "X_test = X1[split:]\n",
    "\n",
    "y_train = y1[: split]\n",
    "y_test = y1[split:]"
   ]
  },
  {
   "cell_type": "code",
   "execution_count": 148,
   "metadata": {},
   "outputs": [],
   "source": [
    "X_train = expand_windowed_data(X1,9)\n",
    "y_train = expand_windowed_data(y1,9)\n",
    "\n",
    "X_test = expand_windowed_data(X1,9)\n",
    "y_test = expand_windowed_data(y1,9)"
   ]
  },
  {
   "cell_type": "code",
   "execution_count": 149,
   "metadata": {},
   "outputs": [
    {
     "name": "stdout",
     "output_type": "stream",
     "text": [
      "(2176, 1) (2176, 1)\n",
      "(2168, 9, 1) (2168, 9, 1)\n"
     ]
    }
   ],
   "source": [
    "print(X1.shape,y1.shape)\n",
    "print(X_train.shape,y_train.shape)"
   ]
  },
  {
   "cell_type": "code",
   "execution_count": 150,
   "metadata": {},
   "outputs": [],
   "source": [
    "def create_model(shape):\n",
    "    model = Sequential()\n",
    "    model.add(LSTM(16, input_shape=shape, return_sequences=True))\n",
    "    model.add(LSTM(16, return_sequences=True))\n",
    "    model.add(Dense(2))\n",
    "    return model  "
   ]
  },
  {
   "cell_type": "code",
   "execution_count": 151,
   "metadata": {},
   "outputs": [
    {
     "name": "stdout",
     "output_type": "stream",
     "text": [
      "Epoch 1/10\n",
      "68/68 [==============================] - 4s 11ms/step - loss: 0.0132\n",
      "Epoch 2/10\n",
      "68/68 [==============================] - 1s 9ms/step - loss: 0.0060\n",
      "Epoch 3/10\n",
      "68/68 [==============================] - 1s 10ms/step - loss: 0.0041\n",
      "Epoch 4/10\n",
      "68/68 [==============================] - 1s 8ms/step - loss: 0.0030\n",
      "Epoch 5/10\n",
      "68/68 [==============================] - 1s 9ms/step - loss: 0.0023\n",
      "Epoch 6/10\n",
      "68/68 [==============================] - 1s 9ms/step - loss: 0.0018\n",
      "Epoch 7/10\n",
      "68/68 [==============================] - 1s 10ms/step - loss: 0.0014\n",
      "Epoch 8/10\n",
      "68/68 [==============================] - 1s 10ms/step - loss: 0.0011\n",
      "Epoch 9/10\n",
      "68/68 [==============================] - 1s 8ms/step - loss: 8.6227e-04\n",
      "Epoch 10/10\n",
      "68/68 [==============================] - 1s 10ms/step - loss: 6.3820e-04\n"
     ]
    },
    {
     "data": {
      "text/plain": [
       "<tensorflow.python.keras.callbacks.History at 0x19f395a61f0>"
      ]
     },
     "execution_count": 151,
     "metadata": {},
     "output_type": "execute_result"
    }
   ],
   "source": [
    "\n",
    "model = create_model(X_train.shape[1:3]) #The last two entries in the shape, data has shape (batches, timesteps, features)\n",
    "model.compile(optimizer = \"adam\", loss=\"mse\")\n",
    "model.fit(X_train, y_train, epochs=10)"
   ]
  },
  {
   "cell_type": "code",
   "execution_count": 160,
   "metadata": {},
   "outputs": [],
   "source": [
    "predictions = model.predict(X_test.reshape((-1,9,1)))\n"
   ]
  },
  {
   "cell_type": "code",
   "execution_count": 161,
   "metadata": {},
   "outputs": [
    {
     "data": {
      "text/plain": [
       "(2168, 9, 2)"
      ]
     },
     "execution_count": 161,
     "metadata": {},
     "output_type": "execute_result"
    }
   ],
   "source": [
    "predictions.shape"
   ]
  },
  {
   "cell_type": "code",
   "execution_count": 175,
   "metadata": {},
   "outputs": [
    {
     "data": {
      "text/plain": [
       "2168"
      ]
     },
     "execution_count": 175,
     "metadata": {},
     "output_type": "execute_result"
    }
   ],
   "source": [
    "len(predictions)"
   ]
  },
  {
   "cell_type": "code",
   "execution_count": 178,
   "metadata": {},
   "outputs": [
    {
     "name": "stdout",
     "output_type": "stream",
     "text": [
      "(2168, 2)\n"
     ]
    }
   ],
   "source": [
    "  \n",
    "result= [i[8]for i in predictions]\n",
    "\n",
    "result_2 = np.array(result)\n",
    "print(result_2.shape)"
   ]
  },
  {
   "cell_type": "code",
   "execution_count": 186,
   "metadata": {},
   "outputs": [
    {
     "data": {
      "text/plain": [
       "array([[-2.4568364e-03, -1.6613305e-04],\n",
       "       [-2.5207289e-03, -2.3208559e-04],\n",
       "       [-2.5546551e-03, -2.6501343e-04],\n",
       "       ...,\n",
       "       [ 4.7486922e-01,  4.7621849e-01],\n",
       "       [ 4.9093089e-01,  4.9239001e-01],\n",
       "       [ 5.0719851e-01,  5.0871533e-01]], dtype=float32)"
      ]
     },
     "execution_count": 186,
     "metadata": {},
     "output_type": "execute_result"
    }
   ],
   "source": [
    "result_2"
   ]
  },
  {
   "cell_type": "code",
   "execution_count": 182,
   "metadata": {},
   "outputs": [
    {
     "data": {
      "text/plain": [
       "array([[-2.4568364e-03, -1.6613305e-04],\n",
       "       [-2.5207289e-03, -2.3208559e-04],\n",
       "       [-2.5546551e-03, -2.6501343e-04],\n",
       "       ...,\n",
       "       [ 4.7486922e-01,  4.7621849e-01],\n",
       "       [ 4.9093089e-01,  4.9239001e-01],\n",
       "       [ 5.0719851e-01,  5.0871533e-01]], dtype=float32)"
      ]
     },
     "execution_count": 182,
     "metadata": {},
     "output_type": "execute_result"
    }
   ],
   "source": [
    "result_2"
   ]
  },
  {
   "cell_type": "code",
   "execution_count": 200,
   "metadata": {},
   "outputs": [
    {
     "data": {
      "text/html": [
       "<div>\n",
       "<style scoped>\n",
       "    .dataframe tbody tr th:only-of-type {\n",
       "        vertical-align: middle;\n",
       "    }\n",
       "\n",
       "    .dataframe tbody tr th {\n",
       "        vertical-align: top;\n",
       "    }\n",
       "\n",
       "    .dataframe thead th {\n",
       "        text-align: right;\n",
       "    }\n",
       "</style>\n",
       "<table border=\"1\" class=\"dataframe\">\n",
       "  <thead>\n",
       "    <tr style=\"text-align: right;\">\n",
       "      <th></th>\n",
       "      <th>Actual</th>\n",
       "      <th>Predicted</th>\n",
       "    </tr>\n",
       "  </thead>\n",
       "  <tbody>\n",
       "    <tr>\n",
       "      <th>0</th>\n",
       "      <td>-0.002457</td>\n",
       "      <td>-0.000332</td>\n",
       "    </tr>\n",
       "    <tr>\n",
       "      <th>1</th>\n",
       "      <td>-0.002521</td>\n",
       "      <td>-0.000464</td>\n",
       "    </tr>\n",
       "    <tr>\n",
       "      <th>2</th>\n",
       "      <td>-0.002555</td>\n",
       "      <td>-0.000530</td>\n",
       "    </tr>\n",
       "    <tr>\n",
       "      <th>3</th>\n",
       "      <td>-0.002549</td>\n",
       "      <td>-0.000513</td>\n",
       "    </tr>\n",
       "    <tr>\n",
       "      <th>4</th>\n",
       "      <td>-0.002513</td>\n",
       "      <td>-0.000436</td>\n",
       "    </tr>\n",
       "    <tr>\n",
       "      <th>...</th>\n",
       "      <td>...</td>\n",
       "      <td>...</td>\n",
       "    </tr>\n",
       "    <tr>\n",
       "      <th>2163</th>\n",
       "      <td>0.457500</td>\n",
       "      <td>0.915827</td>\n",
       "    </tr>\n",
       "    <tr>\n",
       "      <th>2164</th>\n",
       "      <td>0.444231</td>\n",
       "      <td>0.889120</td>\n",
       "    </tr>\n",
       "    <tr>\n",
       "      <th>2165</th>\n",
       "      <td>0.474869</td>\n",
       "      <td>0.952437</td>\n",
       "    </tr>\n",
       "    <tr>\n",
       "      <th>2166</th>\n",
       "      <td>0.490931</td>\n",
       "      <td>0.984780</td>\n",
       "    </tr>\n",
       "    <tr>\n",
       "      <th>2167</th>\n",
       "      <td>0.507199</td>\n",
       "      <td>1.017431</td>\n",
       "    </tr>\n",
       "  </tbody>\n",
       "</table>\n",
       "<p>2168 rows × 2 columns</p>\n",
       "</div>"
      ],
      "text/plain": [
       "        Actual  Predicted\n",
       "0    -0.002457  -0.000332\n",
       "1    -0.002521  -0.000464\n",
       "2    -0.002555  -0.000530\n",
       "3    -0.002549  -0.000513\n",
       "4    -0.002513  -0.000436\n",
       "...        ...        ...\n",
       "2163  0.457500   0.915827\n",
       "2164  0.444231   0.889120\n",
       "2165  0.474869   0.952437\n",
       "2166  0.490931   0.984780\n",
       "2167  0.507199   1.017431\n",
       "\n",
       "[2168 rows x 2 columns]"
      ]
     },
     "execution_count": 200,
     "metadata": {},
     "output_type": "execute_result"
    }
   ],
   "source": [
    " # Create a DataFrame of Real and Predicted values\n",
    "eth_eval = pd.DataFrame({\n",
    "    \"Actual\": result_2.transpose()[0],\n",
    "    \"Predicted\": result_2.transpose()[1]*2\n",
    "}) \n",
    "\n",
    "# Show the DataFrame's head\n",
    "eth_eval"
   ]
  },
  {
   "cell_type": "code",
   "execution_count": 196,
   "metadata": {},
   "outputs": [
    {
     "data": {
      "text/plain": [
       "array([-0.00245684, -0.00252073, -0.00255466, ...,  0.47486922,\n",
       "        0.49093089,  0.5071985 ], dtype=float32)"
      ]
     },
     "execution_count": 196,
     "metadata": {},
     "output_type": "execute_result"
    }
   ],
   "source": [
    "result_2.transpose()[0]"
   ]
  },
  {
   "cell_type": "code",
   "execution_count": 197,
   "metadata": {},
   "outputs": [
    {
     "data": {
      "text/html": [
       "<div>\n",
       "<style scoped>\n",
       "    .dataframe tbody tr th:only-of-type {\n",
       "        vertical-align: middle;\n",
       "    }\n",
       "\n",
       "    .dataframe tbody tr th {\n",
       "        vertical-align: top;\n",
       "    }\n",
       "\n",
       "    .dataframe thead th {\n",
       "        text-align: right;\n",
       "    }\n",
       "</style>\n",
       "<table border=\"1\" class=\"dataframe\">\n",
       "  <thead>\n",
       "    <tr style=\"text-align: right;\">\n",
       "      <th></th>\n",
       "      <th>Closing Price (USD)</th>\n",
       "      <th>24h Open (USD)</th>\n",
       "      <th>24h High (USD)</th>\n",
       "      <th>24h Low (USD)</th>\n",
       "      <th>future</th>\n",
       "    </tr>\n",
       "    <tr>\n",
       "      <th>Date</th>\n",
       "      <th></th>\n",
       "      <th></th>\n",
       "      <th></th>\n",
       "      <th></th>\n",
       "      <th></th>\n",
       "    </tr>\n",
       "  </thead>\n",
       "  <tbody>\n",
       "    <tr>\n",
       "      <th>2015-08-09</th>\n",
       "      <td>0.000116</td>\n",
       "      <td>0.000316</td>\n",
       "      <td>0.000325</td>\n",
       "      <td>0.000096</td>\n",
       "      <td>0.000102</td>\n",
       "    </tr>\n",
       "    <tr>\n",
       "      <th>2015-08-10</th>\n",
       "      <td>0.000064</td>\n",
       "      <td>0.000115</td>\n",
       "      <td>0.000096</td>\n",
       "      <td>0.000070</td>\n",
       "      <td>0.000203</td>\n",
       "    </tr>\n",
       "    <tr>\n",
       "      <th>2015-08-11</th>\n",
       "      <td>0.000058</td>\n",
       "      <td>0.000063</td>\n",
       "      <td>0.000046</td>\n",
       "      <td>0.000060</td>\n",
       "      <td>0.000369</td>\n",
       "    </tr>\n",
       "    <tr>\n",
       "      <th>2015-08-12</th>\n",
       "      <td>0.000102</td>\n",
       "      <td>0.000057</td>\n",
       "      <td>0.000150</td>\n",
       "      <td>0.000064</td>\n",
       "      <td>0.000281</td>\n",
       "    </tr>\n",
       "    <tr>\n",
       "      <th>2015-08-13</th>\n",
       "      <td>0.000203</td>\n",
       "      <td>0.000101</td>\n",
       "      <td>0.000177</td>\n",
       "      <td>0.000110</td>\n",
       "      <td>0.000306</td>\n",
       "    </tr>\n",
       "    <tr>\n",
       "      <th>...</th>\n",
       "      <td>...</td>\n",
       "      <td>...</td>\n",
       "      <td>...</td>\n",
       "      <td>...</td>\n",
       "      <td>...</td>\n",
       "    </tr>\n",
       "    <tr>\n",
       "      <th>2021-07-19</th>\n",
       "      <td>0.442534</td>\n",
       "      <td>0.452552</td>\n",
       "      <td>0.437966</td>\n",
       "      <td>0.458085</td>\n",
       "      <td>0.485271</td>\n",
       "    </tr>\n",
       "    <tr>\n",
       "      <th>2021-07-20</th>\n",
       "      <td>0.429891</td>\n",
       "      <td>0.435115</td>\n",
       "      <td>0.420265</td>\n",
       "      <td>0.436956</td>\n",
       "      <td>0.503232</td>\n",
       "    </tr>\n",
       "    <tr>\n",
       "      <th>2021-07-21</th>\n",
       "      <td>0.476256</td>\n",
       "      <td>0.427497</td>\n",
       "      <td>0.463770</td>\n",
       "      <td>0.445578</td>\n",
       "      <td>0.524497</td>\n",
       "    </tr>\n",
       "    <tr>\n",
       "      <th>2021-07-22</th>\n",
       "      <td>0.485271</td>\n",
       "      <td>0.477577</td>\n",
       "      <td>0.467042</td>\n",
       "      <td>0.495249</td>\n",
       "      <td>0.522859</td>\n",
       "    </tr>\n",
       "    <tr>\n",
       "      <th>2021-07-23</th>\n",
       "      <td>0.503232</td>\n",
       "      <td>0.484508</td>\n",
       "      <td>0.477946</td>\n",
       "      <td>0.506904</td>\n",
       "      <td>0.538513</td>\n",
       "    </tr>\n",
       "  </tbody>\n",
       "</table>\n",
       "<p>2176 rows × 5 columns</p>\n",
       "</div>"
      ],
      "text/plain": [
       "            Closing Price (USD)  24h Open (USD)  24h High (USD)  \\\n",
       "Date                                                              \n",
       "2015-08-09             0.000116        0.000316        0.000325   \n",
       "2015-08-10             0.000064        0.000115        0.000096   \n",
       "2015-08-11             0.000058        0.000063        0.000046   \n",
       "2015-08-12             0.000102        0.000057        0.000150   \n",
       "2015-08-13             0.000203        0.000101        0.000177   \n",
       "...                         ...             ...             ...   \n",
       "2021-07-19             0.442534        0.452552        0.437966   \n",
       "2021-07-20             0.429891        0.435115        0.420265   \n",
       "2021-07-21             0.476256        0.427497        0.463770   \n",
       "2021-07-22             0.485271        0.477577        0.467042   \n",
       "2021-07-23             0.503232        0.484508        0.477946   \n",
       "\n",
       "            24h Low (USD)    future  \n",
       "Date                                 \n",
       "2015-08-09       0.000096  0.000102  \n",
       "2015-08-10       0.000070  0.000203  \n",
       "2015-08-11       0.000060  0.000369  \n",
       "2015-08-12       0.000064  0.000281  \n",
       "2015-08-13       0.000110  0.000306  \n",
       "...                   ...       ...  \n",
       "2021-07-19       0.458085  0.485271  \n",
       "2021-07-20       0.436956  0.503232  \n",
       "2021-07-21       0.445578  0.524497  \n",
       "2021-07-22       0.495249  0.522859  \n",
       "2021-07-23       0.506904  0.538513  \n",
       "\n",
       "[2176 rows x 5 columns]"
      ]
     },
     "execution_count": 197,
     "metadata": {},
     "output_type": "execute_result"
    }
   ],
   "source": [
    "main_df"
   ]
  },
  {
   "cell_type": "code",
   "execution_count": 201,
   "metadata": {},
   "outputs": [
    {
     "data": {
      "text/plain": [
       "<AxesSubplot:title={'center':'Actual Vs. Predicted ETH Prices'}>"
      ]
     },
     "execution_count": 201,
     "metadata": {},
     "output_type": "execute_result"
    },
    {
     "data": {
      "image/png": "[encoded data removed]",
      "text/plain": [
       "<Figure size 432x288 with 1 Axes>"
      ]
     },
     "metadata": {
      "needs_background": "light"
     },
     "output_type": "display_data"
    }
   ],
   "source": [
    "eth_eval.plot(title=\"Actual Vs. Predicted ETH Prices\")"
   ]
  },
  {
   "cell_type": "code",
   "execution_count": null,
   "metadata": {},
   "outputs": [],
   "source": []
  }
 ],
 "metadata": {
  "kernelspec": {
   "display_name": "Python 3",
   "language": "python",
   "name": "python3"
  },
  "language_info": {
   "codemirror_mode": {
    "name": "ipython",
    "version": 3
   },
   "file_extension": ".py",
   "mimetype": "text/x-python",
   "name": "python",
   "nbconvert_exporter": "python",
   "pygments_lexer": "ipython3",
   "version": "3.8.5"
  }
 },
 "nbformat": 4,
 "nbformat_minor": 4
}
