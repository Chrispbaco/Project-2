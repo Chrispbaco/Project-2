{
 "cells": [
  {
   "cell_type": "code",
   "execution_count": 31,
   "metadata": {},
   "outputs": [],
   "source": [
    "# Initial imports\n",
    "import numpy as np\n",
    "import pandas as pd\n",
    "from pathlib import Path\n",
    "\n",
    "%matplotlib inline"
   ]
  },
  {
   "cell_type": "code",
   "execution_count": 32,
   "metadata": {},
   "outputs": [],
   "source": [
    " # Set path to CSV and read in CSV\n",
    "csv_path = Path(\"DATA/BTC/BTC_DATA.csv\")\n",
    "btc_df=pd.read_csv(csv_path)"
   ]
  },
  {
   "cell_type": "code",
   "execution_count": 33,
   "metadata": {},
   "outputs": [
    {
     "data": {
      "text/html": [
       "<div>\n",
       "<style scoped>\n",
       "    .dataframe tbody tr th:only-of-type {\n",
       "        vertical-align: middle;\n",
       "    }\n",
       "\n",
       "    .dataframe tbody tr th {\n",
       "        vertical-align: top;\n",
       "    }\n",
       "\n",
       "    .dataframe thead th {\n",
       "        text-align: right;\n",
       "    }\n",
       "</style>\n",
       "<table border=\"1\" class=\"dataframe\">\n",
       "  <thead>\n",
       "    <tr style=\"text-align: right;\">\n",
       "      <th></th>\n",
       "      <th>Currency</th>\n",
       "      <th>Date</th>\n",
       "      <th>Closing Price (USD)</th>\n",
       "      <th>24h Open (USD)</th>\n",
       "      <th>24h High (USD)</th>\n",
       "      <th>24h Low (USD)</th>\n",
       "    </tr>\n",
       "    <tr>\n",
       "      <th>Date</th>\n",
       "      <th></th>\n",
       "      <th></th>\n",
       "      <th></th>\n",
       "      <th></th>\n",
       "      <th></th>\n",
       "      <th></th>\n",
       "    </tr>\n",
       "  </thead>\n",
       "  <tbody>\n",
       "    <tr>\n",
       "      <th>2013-10-01</th>\n",
       "      <td>BTC</td>\n",
       "      <td>2013-10-01</td>\n",
       "      <td>123.65499</td>\n",
       "      <td>124.30466</td>\n",
       "      <td>124.75166</td>\n",
       "      <td>122.56349</td>\n",
       "    </tr>\n",
       "    <tr>\n",
       "      <th>2013-10-02</th>\n",
       "      <td>BTC</td>\n",
       "      <td>2013-10-02</td>\n",
       "      <td>125.45500</td>\n",
       "      <td>123.65499</td>\n",
       "      <td>125.75850</td>\n",
       "      <td>123.63383</td>\n",
       "    </tr>\n",
       "    <tr>\n",
       "      <th>2013-10-03</th>\n",
       "      <td>BTC</td>\n",
       "      <td>2013-10-03</td>\n",
       "      <td>108.58483</td>\n",
       "      <td>125.45500</td>\n",
       "      <td>125.66566</td>\n",
       "      <td>83.32833</td>\n",
       "    </tr>\n",
       "    <tr>\n",
       "      <th>2013-10-04</th>\n",
       "      <td>BTC</td>\n",
       "      <td>2013-10-04</td>\n",
       "      <td>118.67466</td>\n",
       "      <td>108.58483</td>\n",
       "      <td>118.67500</td>\n",
       "      <td>107.05816</td>\n",
       "    </tr>\n",
       "    <tr>\n",
       "      <th>2013-10-05</th>\n",
       "      <td>BTC</td>\n",
       "      <td>2013-10-05</td>\n",
       "      <td>121.33866</td>\n",
       "      <td>118.67466</td>\n",
       "      <td>121.93633</td>\n",
       "      <td>118.00566</td>\n",
       "    </tr>\n",
       "    <tr>\n",
       "      <th>2013-10-06</th>\n",
       "      <td>BTC</td>\n",
       "      <td>2013-10-06</td>\n",
       "      <td>120.65533</td>\n",
       "      <td>121.33866</td>\n",
       "      <td>121.85216</td>\n",
       "      <td>120.55450</td>\n",
       "    </tr>\n",
       "    <tr>\n",
       "      <th>2013-10-07</th>\n",
       "      <td>BTC</td>\n",
       "      <td>2013-10-07</td>\n",
       "      <td>121.79500</td>\n",
       "      <td>120.65533</td>\n",
       "      <td>121.99166</td>\n",
       "      <td>120.43199</td>\n",
       "    </tr>\n",
       "    <tr>\n",
       "      <th>2013-10-08</th>\n",
       "      <td>BTC</td>\n",
       "      <td>2013-10-08</td>\n",
       "      <td>123.03300</td>\n",
       "      <td>121.79500</td>\n",
       "      <td>123.64016</td>\n",
       "      <td>121.35066</td>\n",
       "    </tr>\n",
       "    <tr>\n",
       "      <th>2013-10-09</th>\n",
       "      <td>BTC</td>\n",
       "      <td>2013-10-09</td>\n",
       "      <td>124.04900</td>\n",
       "      <td>123.03300</td>\n",
       "      <td>124.78350</td>\n",
       "      <td>122.59266</td>\n",
       "    </tr>\n",
       "    <tr>\n",
       "      <th>2013-10-10</th>\n",
       "      <td>BTC</td>\n",
       "      <td>2013-10-10</td>\n",
       "      <td>125.96116</td>\n",
       "      <td>124.04900</td>\n",
       "      <td>128.01683</td>\n",
       "      <td>123.81966</td>\n",
       "    </tr>\n",
       "  </tbody>\n",
       "</table>\n",
       "</div>"
      ],
      "text/plain": [
       "           Currency        Date  Closing Price (USD)  24h Open (USD)  \\\n",
       "Date                                                                   \n",
       "2013-10-01      BTC  2013-10-01            123.65499       124.30466   \n",
       "2013-10-02      BTC  2013-10-02            125.45500       123.65499   \n",
       "2013-10-03      BTC  2013-10-03            108.58483       125.45500   \n",
       "2013-10-04      BTC  2013-10-04            118.67466       108.58483   \n",
       "2013-10-05      BTC  2013-10-05            121.33866       118.67466   \n",
       "2013-10-06      BTC  2013-10-06            120.65533       121.33866   \n",
       "2013-10-07      BTC  2013-10-07            121.79500       120.65533   \n",
       "2013-10-08      BTC  2013-10-08            123.03300       121.79500   \n",
       "2013-10-09      BTC  2013-10-09            124.04900       123.03300   \n",
       "2013-10-10      BTC  2013-10-10            125.96116       124.04900   \n",
       "\n",
       "            24h High (USD)  24h Low (USD)  \n",
       "Date                                       \n",
       "2013-10-01       124.75166      122.56349  \n",
       "2013-10-02       125.75850      123.63383  \n",
       "2013-10-03       125.66566       83.32833  \n",
       "2013-10-04       118.67500      107.05816  \n",
       "2013-10-05       121.93633      118.00566  \n",
       "2013-10-06       121.85216      120.55450  \n",
       "2013-10-07       121.99166      120.43199  \n",
       "2013-10-08       123.64016      121.35066  \n",
       "2013-10-09       124.78350      122.59266  \n",
       "2013-10-10       128.01683      123.81966  "
      ]
     },
     "execution_count": 33,
     "metadata": {},
     "output_type": "execute_result"
    }
   ],
   "source": [
    " # Set index as Date\n",
    "btc_df = btc_df.set_index(pd.to_datetime(btc_df[\"Date\"], infer_datetime_format=True))\n",
    "\n",
    "# Display sample data\n",
    "btc_df.head(10)"
   ]
  },
  {
   "cell_type": "code",
   "execution_count": 34,
   "metadata": {},
   "outputs": [
    {
     "data": {
      "text/plain": [
       "False"
      ]
     },
     "execution_count": 34,
     "metadata": {},
     "output_type": "execute_result"
    }
   ],
   "source": [
    "#check for na\n",
    "btc_df.isnull().values.any()"
   ]
  },
  {
   "cell_type": "code",
   "execution_count": 35,
   "metadata": {},
   "outputs": [],
   "source": [
    "# Set the random seed to (2)\n",
    "from numpy.random import seed\n",
    "\n",
    "seed(1)\n",
    "from tensorflow import random\n",
    "\n",
    "random.set_seed(2)"
   ]
  },
  {
   "cell_type": "code",
   "execution_count": 36,
   "metadata": {},
   "outputs": [],
   "source": [
    "def window_data(df, window, feature_col_number, target_col_number):\n",
    "    X = []\n",
    "    y = []\n",
    "    for i in range(len(df) - window):\n",
    "        features = df.iloc[i : (i + window), feature_col_number]\n",
    "        target = df.iloc[(i + window), target_col_number]\n",
    "        X.append(features)\n",
    "        y.append(target)\n",
    "    return np.array(X), np.array(y).reshape(-1, 1)"
   ]
  },
  {
   "cell_type": "code",
   "execution_count": 37,
   "metadata": {},
   "outputs": [
    {
     "name": "stdout",
     "output_type": "stream",
     "text": [
      "X sample values:\n",
      "[[123.65499 125.455   108.58483 118.67466 121.33866 120.65533 121.795\n",
      "  123.033   124.049  ]\n",
      " [125.455   108.58483 118.67466 121.33866 120.65533 121.795   123.033\n",
      "  124.049   125.96116]\n",
      " [108.58483 118.67466 121.33866 120.65533 121.795   123.033   124.049\n",
      "  125.96116 125.27966]] \n",
      "\n",
      "y sample values:\n",
      "[[125.96116]\n",
      " [125.27966]\n",
      " [125.9275 ]]\n"
     ]
    }
   ],
   "source": [
    "# Define the window size\n",
    "window_size = 9\n",
    "\n",
    "# Set the index of the feature and target columns\n",
    "feature_column = 2\n",
    "target_column = 2\n",
    "\n",
    "# Create the features (X) and target (y) data using the window_data() function.\n",
    "X, y = window_data(btc_df, window_size, feature_column, target_column)\n",
    "\n",
    "# Print a few sample values from X and y\n",
    "print (f\"X sample values:\\n{X[:3]} \\n\")\n",
    "print (f\"y sample values:\\n{y[:3]}\")"
   ]
  },
  {
   "cell_type": "code",
   "execution_count": 38,
   "metadata": {},
   "outputs": [],
   "source": [
    " # Manually splitting the data\n",
    "split = int(0.7 * len(X))\n",
    "\n",
    "X_train = X[: split]\n",
    "X_test = X[split:]\n",
    "\n",
    "y_train = y[: split]\n",
    "y_test = y[split:]"
   ]
  },
  {
   "cell_type": "code",
   "execution_count": 39,
   "metadata": {},
   "outputs": [],
   "source": [
    " # Importing the MinMaxScaler from sklearn\n",
    "from sklearn.preprocessing import MinMaxScaler\n",
    "\n",
    "# Create a MinMaxScaler object\n",
    "scaler = MinMaxScaler()\n",
    "\n",
    "# Fit the MinMaxScaler object with the features data X\n",
    "scaler.fit(X)\n",
    "\n",
    "# Scale the features training and testing sets\n",
    "X_train = scaler.transform(X_train)\n",
    "X_test = scaler.transform(X_test)\n",
    "\n",
    "# Fit the MinMaxScaler object with the target data Y\n",
    "scaler.fit(y)\n",
    "\n",
    "# Scale the target training and testing sets\n",
    "y_train = scaler.transform(y_train)\n",
    "y_test = scaler.transform(y_test)"
   ]
  },
  {
   "cell_type": "code",
   "execution_count": 40,
   "metadata": {},
   "outputs": [
    {
     "name": "stdout",
     "output_type": "stream",
     "text": [
      "X_train sample values:\n",
      "[[[2.38307842e-04]\n",
      "  [2.66771807e-04]\n",
      "  [0.00000000e+00]\n",
      "  [0.00000000e+00]\n",
      "  [1.08077145e-05]\n",
      "  [0.00000000e+00]\n",
      "  [0.00000000e+00]\n",
      "  [0.00000000e+00]\n",
      "  [0.00000000e+00]]\n",
      "\n",
      " [[2.66771807e-04]\n",
      "  [0.00000000e+00]\n",
      "  [1.59552760e-04]\n",
      "  [4.21331559e-05]\n",
      "  [0.00000000e+00]\n",
      "  [1.80252996e-05]\n",
      "  [1.95808638e-05]\n",
      "  [1.60699089e-05]\n",
      "  [3.02448138e-05]]\n",
      "\n",
      " [[0.00000000e+00]\n",
      "  [1.59552760e-04]\n",
      "  [2.01679193e-04]\n",
      "  [3.13257800e-05]\n",
      "  [1.80252996e-05]\n",
      "  [3.76058105e-05]\n",
      "  [3.56504581e-05]\n",
      "  [4.63142367e-05]\n",
      "  [1.94654645e-05]]] \n",
      "\n",
      "X_test sample values:\n",
      "[[[0.06106758]\n",
      "  [0.06113126]\n",
      "  [0.06147316]\n",
      "  [0.06182555]\n",
      "  [0.06095828]\n",
      "  [0.06115588]\n",
      "  [0.06098715]\n",
      "  [0.06082216]\n",
      "  [0.05994256]]\n",
      "\n",
      " [[0.06113126]\n",
      "  [0.06147316]\n",
      "  [0.06197523]\n",
      "  [0.06098769]\n",
      "  [0.06115588]\n",
      "  [0.06100408]\n",
      "  [0.06084055]\n",
      "  [0.05995766]\n",
      "  [0.05996776]]\n",
      "\n",
      " [[0.06147316]\n",
      "  [0.06197523]\n",
      "  [0.06113751]\n",
      "  [0.06118529]\n",
      "  [0.06100408]\n",
      "  [0.06085748]\n",
      "  [0.05997607]\n",
      "  [0.05998287]\n",
      "  [0.06160033]]]\n"
     ]
    }
   ],
   "source": [
    " # Reshape the features data\n",
    "X_train = X_train.reshape((X_train.shape[0], X_train.shape[1], 1))\n",
    "X_test = X_test.reshape((X_test.shape[0], X_test.shape[1], 1))\n",
    "\n",
    "# Print some sample data after reshaping the datasets\n",
    "print (f\"X_train sample values:\\n{X_train[:3]} \\n\")\n",
    "print (f\"X_test sample values:\\n{X_test[:3]}\")"
   ]
  },
  {
   "cell_type": "code",
   "execution_count": 41,
   "metadata": {},
   "outputs": [],
   "source": [
    " # Importing required Keras modules\n",
    "from tensorflow.keras.models import Sequential\n",
    "from tensorflow.keras.layers import LSTM, Dense, Dropout"
   ]
  },
  {
   "cell_type": "code",
   "execution_count": 42,
   "metadata": {},
   "outputs": [],
   "source": [
    "# Define the LSTM RNN model.\n",
    "model = Sequential()\n",
    "\n",
    "# Initial model setup\n",
    "number_units = 9\n",
    "dropout_fraction = 0.2\n",
    "\n",
    "# Layer 1\n",
    "model.add(LSTM(\n",
    "    units=number_units,\n",
    "    return_sequences=True,\n",
    "    input_shape=(X_train.shape[1], 1))\n",
    "    )\n",
    "model.add(Dropout(dropout_fraction))\n",
    "\n",
    "# Layer 2\n",
    "model.add(LSTM(units=number_units, return_sequences=True))\n",
    "model.add(Dropout(dropout_fraction))\n",
    "\n",
    "# Layer 3\n",
    "model.add(LSTM(units=number_units))\n",
    "model.add(Dropout(dropout_fraction))\n",
    "\n",
    "# Output layer\n",
    "model.add(Dense(1))"
   ]
  },
  {
   "cell_type": "code",
   "execution_count": 43,
   "metadata": {},
   "outputs": [],
   "source": [
    " # Compile the model\n",
    "model.compile(optimizer=\"adam\", loss=\"mean_squared_error\")"
   ]
  },
  {
   "cell_type": "code",
   "execution_count": 44,
   "metadata": {},
   "outputs": [
    {
     "name": "stdout",
     "output_type": "stream",
     "text": [
      "Model: \"sequential_1\"\n",
      "_________________________________________________________________\n",
      "Layer (type)                 Output Shape              Param #   \n",
      "=================================================================\n",
      "lstm_3 (LSTM)                (None, 9, 9)              396       \n",
      "_________________________________________________________________\n",
      "dropout_3 (Dropout)          (None, 9, 9)              0         \n",
      "_________________________________________________________________\n",
      "lstm_4 (LSTM)                (None, 9, 9)              684       \n",
      "_________________________________________________________________\n",
      "dropout_4 (Dropout)          (None, 9, 9)              0         \n",
      "_________________________________________________________________\n",
      "lstm_5 (LSTM)                (None, 9)                 684       \n",
      "_________________________________________________________________\n",
      "dropout_5 (Dropout)          (None, 9)                 0         \n",
      "_________________________________________________________________\n",
      "dense_1 (Dense)              (None, 1)                 10        \n",
      "=================================================================\n",
      "Total params: 1,774\n",
      "Trainable params: 1,774\n",
      "Non-trainable params: 0\n",
      "_________________________________________________________________\n"
     ]
    }
   ],
   "source": [
    "# Show the model summary\n",
    "model.summary()"
   ]
  },
  {
   "cell_type": "code",
   "execution_count": 45,
   "metadata": {},
   "outputs": [
    {
     "name": "stdout",
     "output_type": "stream",
     "text": [
      "Epoch 1/10\n",
      "23/23 [==============================] - 4s 8ms/step - loss: 0.0020\n",
      "Epoch 2/10\n",
      "23/23 [==============================] - 0s 9ms/step - loss: 0.0039\n",
      "Epoch 3/10\n",
      "23/23 [==============================] - 0s 8ms/step - loss: 0.0020\n",
      "Epoch 4/10\n",
      "23/23 [==============================] - 0s 8ms/step - loss: 0.0019\n",
      "Epoch 5/10\n",
      "23/23 [==============================] - 0s 8ms/step - loss: 0.0012\n",
      "Epoch 6/10\n",
      "23/23 [==============================] - 0s 8ms/step - loss: 5.7301e-04\n",
      "Epoch 7/10\n",
      "23/23 [==============================] - 0s 8ms/step - loss: 3.4874e-04\n",
      "Epoch 8/10\n",
      "23/23 [==============================] - 0s 8ms/step - loss: 2.4379e-04\n",
      "Epoch 9/10\n",
      "23/23 [==============================] - 0s 14ms/step - loss: 3.1090e-04\n",
      "Epoch 10/10\n",
      "23/23 [==============================] - 0s 8ms/step - loss: 3.2697e-04\n"
     ]
    },
    {
     "data": {
      "text/plain": [
       "<tensorflow.python.keras.callbacks.History at 0x28363b5a6a0>"
      ]
     },
     "execution_count": 45,
     "metadata": {},
     "output_type": "execute_result"
    }
   ],
   "source": [
    "# Train the model\n",
    "model.fit(X_train, y_train, epochs=10, shuffle=False, batch_size=90, verbose=1)"
   ]
  },
  {
   "cell_type": "code",
   "execution_count": 134,
   "metadata": {},
   "outputs": [],
   "source": [
    " # Make predictions using the testing data X_test\n",
    "predicted = model.predict(X_test)"
   ]
  },
  {
   "cell_type": "code",
   "execution_count": 135,
   "metadata": {},
   "outputs": [
    {
     "data": {
      "text/plain": [
       "(855, 1)"
      ]
     },
     "execution_count": 135,
     "metadata": {},
     "output_type": "execute_result"
    }
   ],
   "source": [
    "predicted.shape"
   ]
  },
  {
   "cell_type": "code",
   "execution_count": 136,
   "metadata": {},
   "outputs": [],
   "source": [
    "# Recover the original prices instead of the scaled version\n",
    "predicted_prices = scaler.inverse_transform(predicted)\n",
    "real_prices = scaler.inverse_transform(y_test.reshape(-1, 1))"
   ]
  },
  {
   "cell_type": "code",
   "execution_count": 137,
   "metadata": {},
   "outputs": [
    {
     "data": {
      "text/html": [
       "<div>\n",
       "<style scoped>\n",
       "    .dataframe tbody tr th:only-of-type {\n",
       "        vertical-align: middle;\n",
       "    }\n",
       "\n",
       "    .dataframe tbody tr th {\n",
       "        vertical-align: top;\n",
       "    }\n",
       "\n",
       "    .dataframe thead th {\n",
       "        text-align: right;\n",
       "    }\n",
       "</style>\n",
       "<table border=\"1\" class=\"dataframe\">\n",
       "  <thead>\n",
       "    <tr style=\"text-align: right;\">\n",
       "      <th></th>\n",
       "      <th>Actual</th>\n",
       "      <th>Predicted</th>\n",
       "    </tr>\n",
       "    <tr>\n",
       "      <th>Date</th>\n",
       "      <th></th>\n",
       "      <th></th>\n",
       "    </tr>\n",
       "  </thead>\n",
       "  <tbody>\n",
       "    <tr>\n",
       "      <th>2019-03-26</th>\n",
       "      <td>3915.375320</td>\n",
       "      <td>4027.173340</td>\n",
       "    </tr>\n",
       "    <tr>\n",
       "      <th>2019-03-27</th>\n",
       "      <td>4018.590510</td>\n",
       "      <td>4026.826660</td>\n",
       "    </tr>\n",
       "    <tr>\n",
       "      <th>2019-03-28</th>\n",
       "      <td>4008.370872</td>\n",
       "      <td>4025.327637</td>\n",
       "    </tr>\n",
       "    <tr>\n",
       "      <th>2019-03-29</th>\n",
       "      <td>4080.260114</td>\n",
       "      <td>4020.498779</td>\n",
       "    </tr>\n",
       "    <tr>\n",
       "      <th>2019-03-30</th>\n",
       "      <td>4081.221605</td>\n",
       "      <td>4012.244629</td>\n",
       "    </tr>\n",
       "  </tbody>\n",
       "</table>\n",
       "</div>"
      ],
      "text/plain": [
       "                 Actual    Predicted\n",
       "Date                                \n",
       "2019-03-26  3915.375320  4027.173340\n",
       "2019-03-27  4018.590510  4026.826660\n",
       "2019-03-28  4008.370872  4025.327637\n",
       "2019-03-29  4080.260114  4020.498779\n",
       "2019-03-30  4081.221605  4012.244629"
      ]
     },
     "execution_count": 137,
     "metadata": {},
     "output_type": "execute_result"
    }
   ],
   "source": [
    " # Create a DataFrame of Real and Predicted values\n",
    "btc_eval = pd.DataFrame({\n",
    "    \"Actual\": real_prices.ravel(),\n",
    "    \"Predicted\": predicted_prices.ravel()\n",
    "}, index = btc_df.index[-len(real_prices): ]) \n",
    "\n",
    "# Show the DataFrame's head\n",
    "btc_eval.head()"
   ]
  },
  {
   "cell_type": "code",
   "execution_count": 138,
   "metadata": {},
   "outputs": [
    {
     "data": {
      "text/plain": [
       "<AxesSubplot:title={'center':'Actual Vs. Predicted ETH Prices'}, xlabel='Date'>"
      ]
     },
     "execution_count": 138,
     "metadata": {},
     "output_type": "execute_result"
    },
    {
     "data": {
      "image/png": "[encoded data removed]",
      "text/plain": [
       "<Figure size 432x288 with 1 Axes>"
      ]
     },
     "metadata": {
      "needs_background": "light"
     },
     "output_type": "display_data"
    }
   ],
   "source": [
    " # Plot the real vs predicted prices as a line chart\n",
    "btc_eval.plot(title=\"Actual Vs. Predicted ETH Prices\")"
   ]
  },
  {
   "cell_type": "code",
   "execution_count": 139,
   "metadata": {},
   "outputs": [
    {
     "name": "stdout",
     "output_type": "stream",
     "text": [
      "22843143.094656184\n",
      "4779.450082871061\n",
      "2336.500097640084\n"
     ]
    }
   ],
   "source": [
    "#seprate actual and pred\n",
    "Pred= btc_eval['Actual']\n",
    "act= btc_eval['Predicted']\n",
    "\n",
    "#model eval\n",
    "from sklearn.metrics import mean_absolute_error\n",
    "from sklearn.metrics import mean_squared_error\n",
    "import math\n",
    "print(mean_squared_error(act, Pred))\n",
    "print(math.sqrt(mean_squared_error(act, Pred)))\n",
    "print(mean_absolute_error(act, Pred))"
   ]
  },
  {
   "cell_type": "code",
   "execution_count": 146,
   "metadata": {},
   "outputs": [],
   "source": [
    "#create buy and sell signals \n",
    "#calculate profit and loss\n",
    "\n",
    "#create 'profit/loss' column to track trade metrics\n",
    "btc_eval['profit/loss'] = np.nan\n",
    "\n",
    "#create column to hold buy and cell signals\n",
    "btc_eval['signals'] = np.nan\n",
    "\n",
    "#create buy and sell list containers\n",
    "buy = []\n",
    "sell = []\n",
    "\n",
    "#create column that has next days price\n",
    "btc_eval['next_day'] = btc_eval[\"Predicted\"].shift(-1)"
   ]
  },
  {
   "cell_type": "code",
   "execution_count": 147,
   "metadata": {},
   "outputs": [],
   "source": [
    "#create loop that buys if next day price is higer and sells if next day price goes down\n",
    "for index, row in btc_eval.iterrows():\n",
    "\n",
    "    if row[\"Predicted\"] > row[\"next_day\"]:\n",
    "        btc_eval.loc[index, \"signals\"] = \"buy\"\n",
    "        buy.append(row[\"Actual\"])\n",
    "        btc_eval.loc[index, \"profit/loss\"] = 0\n",
    "    elif row[\"Predicted\"] < row[\"next_day\"]:\n",
    "        btc_eval.loc[index, \"signals\"] = \"sell\"\n",
    "        sell.append(row[\"Actual\"])\n",
    "        #btc_eval.loc[index, \"profit/loss\"] = sell[-1] - buy[-1]\n",
    "    else:\n",
    "        btc_eval.loc[index, \"signals\"] = \"hold\"\n"
   ]
  },
  {
   "cell_type": "code",
   "execution_count": 148,
   "metadata": {},
   "outputs": [],
   "source": [
    "#create loop that buys if next day price is higer and sells if next day price goes down\n",
    "for index, row in btc_eval.iterrows():\n",
    "\n",
    "    if row[\"Predicted\"] > row[\"next_day\"]:\n",
    "        btc_eval.loc[index, \"signals\"] = \"buy\"\n",
    "        buy.append(row[\"Actual\"])\n",
    "        btc_eval.loc[index, \"profit/loss\"] = 0\n",
    "    elif row[\"Predicted\"] < row[\"next_day\"]:\n",
    "        btc_eval.loc[index, \"signals\"] = \"sell\"\n",
    "        sell.append(row[\"Actual\"])\n",
    "        btc_eval.loc[index, \"profit/loss\"] = sell[-1] - buy[-1]\n",
    "    else:\n",
    "        btc_eval.loc[index, \"signals\"] = \"hold\"\n"
   ]
  },
  {
   "cell_type": "code",
   "execution_count": 149,
   "metadata": {},
   "outputs": [],
   "source": [
    "btc_eval.dropna(inplace= True)"
   ]
  },
  {
   "cell_type": "code",
   "execution_count": 150,
   "metadata": {},
   "outputs": [
    {
     "data": {
      "text/html": [
       "<div>\n",
       "<style scoped>\n",
       "    .dataframe tbody tr th:only-of-type {\n",
       "        vertical-align: middle;\n",
       "    }\n",
       "\n",
       "    .dataframe tbody tr th {\n",
       "        vertical-align: top;\n",
       "    }\n",
       "\n",
       "    .dataframe thead th {\n",
       "        text-align: right;\n",
       "    }\n",
       "</style>\n",
       "<table border=\"1\" class=\"dataframe\">\n",
       "  <thead>\n",
       "    <tr style=\"text-align: right;\">\n",
       "      <th></th>\n",
       "      <th>Actual</th>\n",
       "      <th>Predicted</th>\n",
       "      <th>profit/loss</th>\n",
       "      <th>signals</th>\n",
       "      <th>next_day</th>\n",
       "    </tr>\n",
       "    <tr>\n",
       "      <th>Date</th>\n",
       "      <th></th>\n",
       "      <th></th>\n",
       "      <th></th>\n",
       "      <th></th>\n",
       "      <th></th>\n",
       "    </tr>\n",
       "  </thead>\n",
       "  <tbody>\n",
       "    <tr>\n",
       "      <th>2021-07-21</th>\n",
       "      <td>32014.436034</td>\n",
       "      <td>30442.689453</td>\n",
       "      <td>0.000000</td>\n",
       "      <td>buy</td>\n",
       "      <td>30224.376953</td>\n",
       "    </tr>\n",
       "    <tr>\n",
       "      <th>2021-07-22</th>\n",
       "      <td>32203.365638</td>\n",
       "      <td>30224.376953</td>\n",
       "      <td>0.000000</td>\n",
       "      <td>buy</td>\n",
       "      <td>30063.230469</td>\n",
       "    </tr>\n",
       "    <tr>\n",
       "      <th>2021-07-23</th>\n",
       "      <td>33117.751462</td>\n",
       "      <td>30063.230469</td>\n",
       "      <td>0.000000</td>\n",
       "      <td>buy</td>\n",
       "      <td>29845.333984</td>\n",
       "    </tr>\n",
       "    <tr>\n",
       "      <th>2021-07-24</th>\n",
       "      <td>34014.618359</td>\n",
       "      <td>29845.333984</td>\n",
       "      <td>0.000000</td>\n",
       "      <td>buy</td>\n",
       "      <td>29839.986328</td>\n",
       "    </tr>\n",
       "    <tr>\n",
       "      <th>2021-07-25</th>\n",
       "      <td>34574.670661</td>\n",
       "      <td>29839.986328</td>\n",
       "      <td>560.052302</td>\n",
       "      <td>sell</td>\n",
       "      <td>29918.623047</td>\n",
       "    </tr>\n",
       "  </tbody>\n",
       "</table>\n",
       "</div>"
      ],
      "text/plain": [
       "                  Actual     Predicted  profit/loss signals      next_day\n",
       "Date                                                                     \n",
       "2021-07-21  32014.436034  30442.689453     0.000000     buy  30224.376953\n",
       "2021-07-22  32203.365638  30224.376953     0.000000     buy  30063.230469\n",
       "2021-07-23  33117.751462  30063.230469     0.000000     buy  29845.333984\n",
       "2021-07-24  34014.618359  29845.333984     0.000000     buy  29839.986328\n",
       "2021-07-25  34574.670661  29839.986328   560.052302    sell  29918.623047"
      ]
     },
     "execution_count": 150,
     "metadata": {},
     "output_type": "execute_result"
    }
   ],
   "source": [
    "btc_eval.tail()"
   ]
  },
  {
   "cell_type": "code",
   "execution_count": 152,
   "metadata": {},
   "outputs": [
    {
     "name": "stdout",
     "output_type": "stream",
     "text": [
      "The total profit/loss of the trading model is $1061116212.81, with the total return on investment being 106111.62%\n"
     ]
    }
   ],
   "source": [
    "# calculate total profit/loss and percent return for 1000 total coins\n",
    "\n",
    "# total amount of initial capital\n",
    "initial_capital = 1000000\n",
    "\n",
    "# set total amount of coins\n",
    "coin_order = 1000\n",
    "\n",
    "# calculate total profit/loss\n",
    "total_profit_loss = round(btc_eval[\"profit/loss\"].sum() * coin_order, 2)\n",
    "\n",
    "# calculate return on investemnt \n",
    "roi = round((total_profit_loss / initial_capital) * 100, 2)\n",
    "\n",
    "# display profit/loss and roi\n",
    "print(\n",
    "    f\"The total profit/loss of the trading model is ${total_profit_loss}, \"\n",
    "    f\"with the total return on investment being {roi}%\"\n",
    ")"
   ]
  },
  {
   "cell_type": "code",
   "execution_count": null,
   "metadata": {},
   "outputs": [],
   "source": []
  }
 ],
 "metadata": {
  "kernelspec": {
   "display_name": "Python 3",
   "language": "python",
   "name": "python3"
  },
  "language_info": {
   "codemirror_mode": {
    "name": "ipython",
    "version": 3
   },
   "file_extension": ".py",
   "mimetype": "text/x-python",
   "name": "python",
   "nbconvert_exporter": "python",
   "pygments_lexer": "ipython3",
   "version": "3.8.5"
  }
 },
 "nbformat": 4,
 "nbformat_minor": 4
}
