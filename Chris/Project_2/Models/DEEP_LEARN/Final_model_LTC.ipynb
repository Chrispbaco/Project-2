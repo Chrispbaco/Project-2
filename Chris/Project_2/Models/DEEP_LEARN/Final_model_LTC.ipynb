{
 "cells": [
  {
   "cell_type": "code",
   "execution_count": 3,
   "metadata": {},
   "outputs": [],
   "source": [
    "# Initial imports\n",
    "import numpy as np\n",
    "import pandas as pd\n",
    "from pathlib import Path\n",
    "\n",
    "%matplotlib inline"
   ]
  },
  {
   "cell_type": "code",
   "execution_count": 9,
   "metadata": {},
   "outputs": [],
   "source": [
    " # Set path to CSV and read in CSV\n",
    "csv_path = Path(\"DATA/LTC/LTC_DATA.csv\")\n",
    "ltc_df=pd.read_csv(csv_path)"
   ]
  },
  {
   "cell_type": "code",
   "execution_count": 10,
   "metadata": {},
   "outputs": [
    {
     "data": {
      "text/html": [
       "<div>\n",
       "<style scoped>\n",
       "    .dataframe tbody tr th:only-of-type {\n",
       "        vertical-align: middle;\n",
       "    }\n",
       "\n",
       "    .dataframe tbody tr th {\n",
       "        vertical-align: top;\n",
       "    }\n",
       "\n",
       "    .dataframe thead th {\n",
       "        text-align: right;\n",
       "    }\n",
       "</style>\n",
       "<table border=\"1\" class=\"dataframe\">\n",
       "  <thead>\n",
       "    <tr style=\"text-align: right;\">\n",
       "      <th></th>\n",
       "      <th>Currency</th>\n",
       "      <th>Date</th>\n",
       "      <th>Closing Price (USD)</th>\n",
       "      <th>24h Open (USD)</th>\n",
       "      <th>24h High (USD)</th>\n",
       "      <th>24h Low (USD)</th>\n",
       "    </tr>\n",
       "    <tr>\n",
       "      <th>Date</th>\n",
       "      <th></th>\n",
       "      <th></th>\n",
       "      <th></th>\n",
       "      <th></th>\n",
       "      <th></th>\n",
       "      <th></th>\n",
       "    </tr>\n",
       "  </thead>\n",
       "  <tbody>\n",
       "    <tr>\n",
       "      <th>2018-05-31</th>\n",
       "      <td>LTC</td>\n",
       "      <td>2018-05-31</td>\n",
       "      <td>117.475053</td>\n",
       "      <td>118.974662</td>\n",
       "      <td>119.628628</td>\n",
       "      <td>117.006761</td>\n",
       "    </tr>\n",
       "    <tr>\n",
       "      <th>2018-06-01</th>\n",
       "      <td>LTC</td>\n",
       "      <td>2018-06-01</td>\n",
       "      <td>119.934676</td>\n",
       "      <td>118.307052</td>\n",
       "      <td>120.452653</td>\n",
       "      <td>117.390816</td>\n",
       "    </tr>\n",
       "    <tr>\n",
       "      <th>2018-06-02</th>\n",
       "      <td>LTC</td>\n",
       "      <td>2018-06-02</td>\n",
       "      <td>123.222694</td>\n",
       "      <td>120.171853</td>\n",
       "      <td>124.229394</td>\n",
       "      <td>118.542360</td>\n",
       "    </tr>\n",
       "    <tr>\n",
       "      <th>2018-06-03</th>\n",
       "      <td>LTC</td>\n",
       "      <td>2018-06-03</td>\n",
       "      <td>125.365456</td>\n",
       "      <td>123.500674</td>\n",
       "      <td>127.920242</td>\n",
       "      <td>122.112908</td>\n",
       "    </tr>\n",
       "    <tr>\n",
       "      <th>2018-06-04</th>\n",
       "      <td>LTC</td>\n",
       "      <td>2018-06-04</td>\n",
       "      <td>119.522003</td>\n",
       "      <td>124.869538</td>\n",
       "      <td>126.883812</td>\n",
       "      <td>118.303633</td>\n",
       "    </tr>\n",
       "    <tr>\n",
       "      <th>2018-06-05</th>\n",
       "      <td>LTC</td>\n",
       "      <td>2018-06-05</td>\n",
       "      <td>122.078669</td>\n",
       "      <td>119.522007</td>\n",
       "      <td>122.432580</td>\n",
       "      <td>115.990032</td>\n",
       "    </tr>\n",
       "    <tr>\n",
       "      <th>2018-06-06</th>\n",
       "      <td>LTC</td>\n",
       "      <td>2018-06-06</td>\n",
       "      <td>121.484850</td>\n",
       "      <td>121.990000</td>\n",
       "      <td>122.640000</td>\n",
       "      <td>118.490000</td>\n",
       "    </tr>\n",
       "    <tr>\n",
       "      <th>2018-06-07</th>\n",
       "      <td>LTC</td>\n",
       "      <td>2018-06-07</td>\n",
       "      <td>121.490219</td>\n",
       "      <td>121.484850</td>\n",
       "      <td>123.594169</td>\n",
       "      <td>119.646156</td>\n",
       "    </tr>\n",
       "    <tr>\n",
       "      <th>2018-06-08</th>\n",
       "      <td>LTC</td>\n",
       "      <td>2018-06-08</td>\n",
       "      <td>120.069032</td>\n",
       "      <td>121.498743</td>\n",
       "      <td>121.991948</td>\n",
       "      <td>118.335104</td>\n",
       "    </tr>\n",
       "    <tr>\n",
       "      <th>2018-06-09</th>\n",
       "      <td>LTC</td>\n",
       "      <td>2018-06-09</td>\n",
       "      <td>117.371700</td>\n",
       "      <td>120.069032</td>\n",
       "      <td>120.981605</td>\n",
       "      <td>117.013642</td>\n",
       "    </tr>\n",
       "  </tbody>\n",
       "</table>\n",
       "</div>"
      ],
      "text/plain": [
       "           Currency        Date  Closing Price (USD)  24h Open (USD)  \\\n",
       "Date                                                                   \n",
       "2018-05-31      LTC  2018-05-31           117.475053      118.974662   \n",
       "2018-06-01      LTC  2018-06-01           119.934676      118.307052   \n",
       "2018-06-02      LTC  2018-06-02           123.222694      120.171853   \n",
       "2018-06-03      LTC  2018-06-03           125.365456      123.500674   \n",
       "2018-06-04      LTC  2018-06-04           119.522003      124.869538   \n",
       "2018-06-05      LTC  2018-06-05           122.078669      119.522007   \n",
       "2018-06-06      LTC  2018-06-06           121.484850      121.990000   \n",
       "2018-06-07      LTC  2018-06-07           121.490219      121.484850   \n",
       "2018-06-08      LTC  2018-06-08           120.069032      121.498743   \n",
       "2018-06-09      LTC  2018-06-09           117.371700      120.069032   \n",
       "\n",
       "            24h High (USD)  24h Low (USD)  \n",
       "Date                                       \n",
       "2018-05-31      119.628628     117.006761  \n",
       "2018-06-01      120.452653     117.390816  \n",
       "2018-06-02      124.229394     118.542360  \n",
       "2018-06-03      127.920242     122.112908  \n",
       "2018-06-04      126.883812     118.303633  \n",
       "2018-06-05      122.432580     115.990032  \n",
       "2018-06-06      122.640000     118.490000  \n",
       "2018-06-07      123.594169     119.646156  \n",
       "2018-06-08      121.991948     118.335104  \n",
       "2018-06-09      120.981605     117.013642  "
      ]
     },
     "execution_count": 10,
     "metadata": {},
     "output_type": "execute_result"
    }
   ],
   "source": [
    " # Set index as Date\n",
    "ltc_df = ltc_df.set_index(pd.to_datetime(ltc_df[\"Date\"], infer_datetime_format=True))\n",
    "\n",
    "# Display sample data\n",
    "ltc_df.head(10)"
   ]
  },
  {
   "cell_type": "code",
   "execution_count": 11,
   "metadata": {},
   "outputs": [
    {
     "data": {
      "text/plain": [
       "False"
      ]
     },
     "execution_count": 11,
     "metadata": {},
     "output_type": "execute_result"
    }
   ],
   "source": [
    "#check for na\n",
    "ltc_df.isnull().values.any()"
   ]
  },
  {
   "cell_type": "code",
   "execution_count": 12,
   "metadata": {},
   "outputs": [],
   "source": [
    "# Set the random seed to (2)\n",
    "from numpy.random import seed\n",
    "\n",
    "seed(1)\n",
    "from tensorflow import random\n",
    "\n",
    "random.set_seed(2)"
   ]
  },
  {
   "cell_type": "code",
   "execution_count": 13,
   "metadata": {},
   "outputs": [],
   "source": [
    "def window_data(df, window, feature_col_number, target_col_number):\n",
    "    X = []\n",
    "    y = []\n",
    "    for i in range(len(df) - window):\n",
    "        features = df.iloc[i : (i + window), feature_col_number]\n",
    "        target = df.iloc[(i + window), target_col_number]\n",
    "        X.append(features)\n",
    "        y.append(target)\n",
    "    return np.array(X), np.array(y).reshape(-1, 1)"
   ]
  },
  {
   "cell_type": "code",
   "execution_count": 14,
   "metadata": {},
   "outputs": [
    {
     "name": "stdout",
     "output_type": "stream",
     "text": [
      "X sample values:\n",
      "[[117.47505337 119.93467627 123.22269359 125.36545647 119.52200328\n",
      "  122.0786686  121.48485    121.49021883 120.06903171]\n",
      " [119.93467627 123.22269359 125.36545647 119.52200328 122.0786686\n",
      "  121.48485    121.49021883 120.06903171 117.3717    ]\n",
      " [123.22269359 125.36545647 119.52200328 122.0786686  121.48485\n",
      "  121.49021883 120.06903171 117.3717     106.85      ]] \n",
      "\n",
      "y sample values:\n",
      "[[117.3717  ]\n",
      " [106.85    ]\n",
      " [105.858313]]\n"
     ]
    }
   ],
   "source": [
    "# Define the window size\n",
    "window_size = 9\n",
    "\n",
    "# Set the index of the feature and target columns\n",
    "feature_column = 2\n",
    "target_column = 2\n",
    "\n",
    "# Create the features (X) and target (y) data using the window_data() function.\n",
    "X, y = window_data(ltc_df, window_size, feature_column, target_column)\n",
    "\n",
    "# Print a few sample values from X and y\n",
    "print (f\"X sample values:\\n{X[:3]} \\n\")\n",
    "print (f\"y sample values:\\n{y[:3]}\")"
   ]
  },
  {
   "cell_type": "code",
   "execution_count": 15,
   "metadata": {},
   "outputs": [],
   "source": [
    " # Manually splitting the data\n",
    "split = int(0.7 * len(X))\n",
    "\n",
    "X_train = X[: split]\n",
    "X_test = X[split:]\n",
    "\n",
    "y_train = y[: split]\n",
    "y_test = y[split:]"
   ]
  },
  {
   "cell_type": "code",
   "execution_count": 16,
   "metadata": {},
   "outputs": [],
   "source": [
    " # Importing the MinMaxScaler from sklearn\n",
    "from sklearn.preprocessing import MinMaxScaler\n",
    "\n",
    "# Create a MinMaxScaler object\n",
    "scaler = MinMaxScaler()\n",
    "\n",
    "# Fit the MinMaxScaler object with the features data X\n",
    "scaler.fit(X)\n",
    "\n",
    "# Scale the features training and testing sets\n",
    "X_train = scaler.transform(X_train)\n",
    "X_test = scaler.transform(X_test)\n",
    "\n",
    "# Fit the MinMaxScaler object with the target data Y\n",
    "scaler.fit(y)\n",
    "\n",
    "# Scale the target training and testing sets\n",
    "y_train = scaler.transform(y_train)\n",
    "y_test = scaler.transform(y_test)"
   ]
  },
  {
   "cell_type": "code",
   "execution_count": 17,
   "metadata": {},
   "outputs": [
    {
     "name": "stdout",
     "output_type": "stream",
     "text": [
      "X_train sample values:\n",
      "[[[0.262713  ]\n",
      "  [0.26954282]\n",
      "  [0.27867291]\n",
      "  [0.28462288]\n",
      "  [0.26839692]\n",
      "  [0.27549621]\n",
      "  [0.27384731]\n",
      "  [0.27386222]\n",
      "  [0.2699159 ]]\n",
      "\n",
      " [[0.26954282]\n",
      "  [0.27867291]\n",
      "  [0.28462288]\n",
      "  [0.26839692]\n",
      "  [0.27549621]\n",
      "  [0.27384731]\n",
      "  [0.27386222]\n",
      "  [0.2699159 ]\n",
      "  [0.26242601]]\n",
      "\n",
      " [[0.27867291]\n",
      "  [0.28462288]\n",
      "  [0.26839692]\n",
      "  [0.27549621]\n",
      "  [0.27384731]\n",
      "  [0.27386222]\n",
      "  [0.2699159 ]\n",
      "  [0.26242601]\n",
      "  [0.23320961]]] \n",
      "\n",
      "X_test sample values:\n",
      "[[[0.09413279]\n",
      "  [0.09833481]\n",
      "  [0.08601734]\n",
      "  [0.08750659]\n",
      "  [0.09543185]\n",
      "  [0.0946688 ]\n",
      "  [0.10390092]\n",
      "  [0.1093047 ]\n",
      "  [0.12558417]]\n",
      "\n",
      " [[0.09833481]\n",
      "  [0.08601734]\n",
      "  [0.08750659]\n",
      "  [0.09543185]\n",
      "  [0.0946688 ]\n",
      "  [0.10390092]\n",
      "  [0.1093047 ]\n",
      "  [0.12558417]\n",
      "  [0.12188604]]\n",
      "\n",
      " [[0.08601734]\n",
      "  [0.08750659]\n",
      "  [0.09543185]\n",
      "  [0.0946688 ]\n",
      "  [0.10390092]\n",
      "  [0.1093047 ]\n",
      "  [0.12558417]\n",
      "  [0.12188604]\n",
      "  [0.10742824]]]\n"
     ]
    }
   ],
   "source": [
    " # Reshape the features data\n",
    "X_train = X_train.reshape((X_train.shape[0], X_train.shape[1], 1))\n",
    "X_test = X_test.reshape((X_test.shape[0], X_test.shape[1], 1))\n",
    "\n",
    "# Print some sample data after reshaping the datasets\n",
    "print (f\"X_train sample values:\\n{X_train[:3]} \\n\")\n",
    "print (f\"X_test sample values:\\n{X_test[:3]}\")"
   ]
  },
  {
   "cell_type": "code",
   "execution_count": 18,
   "metadata": {},
   "outputs": [],
   "source": [
    " # Importing required Keras modules\n",
    "from tensorflow.keras.models import Sequential\n",
    "from tensorflow.keras.layers import LSTM, Dense, Dropout"
   ]
  },
  {
   "cell_type": "code",
   "execution_count": 19,
   "metadata": {},
   "outputs": [],
   "source": [
    "# Define the LSTM RNN model.\n",
    "model = Sequential()\n",
    "\n",
    "# Initial model setup\n",
    "number_units = 9\n",
    "dropout_fraction = 0.2\n",
    "\n",
    "# Layer 1\n",
    "model.add(LSTM(\n",
    "    units=number_units,\n",
    "    return_sequences=True,\n",
    "    input_shape=(X_train.shape[1], 1))\n",
    "    )\n",
    "model.add(Dropout(dropout_fraction))\n",
    "\n",
    "# Layer 2\n",
    "model.add(LSTM(units=number_units, return_sequences=True))\n",
    "model.add(Dropout(dropout_fraction))\n",
    "\n",
    "# Layer 3\n",
    "model.add(LSTM(units=number_units))\n",
    "model.add(Dropout(dropout_fraction))\n",
    "\n",
    "# Output layer\n",
    "model.add(Dense(1))"
   ]
  },
  {
   "cell_type": "code",
   "execution_count": 20,
   "metadata": {},
   "outputs": [],
   "source": [
    " # Compile the model\n",
    "model.compile(optimizer=\"adam\", loss=\"mean_squared_error\")"
   ]
  },
  {
   "cell_type": "code",
   "execution_count": 21,
   "metadata": {},
   "outputs": [
    {
     "name": "stdout",
     "output_type": "stream",
     "text": [
      "Model: \"sequential\"\n",
      "_________________________________________________________________\n",
      "Layer (type)                 Output Shape              Param #   \n",
      "=================================================================\n",
      "lstm (LSTM)                  (None, 9, 9)              396       \n",
      "_________________________________________________________________\n",
      "dropout (Dropout)            (None, 9, 9)              0         \n",
      "_________________________________________________________________\n",
      "lstm_1 (LSTM)                (None, 9, 9)              684       \n",
      "_________________________________________________________________\n",
      "dropout_1 (Dropout)          (None, 9, 9)              0         \n",
      "_________________________________________________________________\n",
      "lstm_2 (LSTM)                (None, 9)                 684       \n",
      "_________________________________________________________________\n",
      "dropout_2 (Dropout)          (None, 9)                 0         \n",
      "_________________________________________________________________\n",
      "dense (Dense)                (None, 1)                 10        \n",
      "=================================================================\n",
      "Total params: 1,774\n",
      "Trainable params: 1,774\n",
      "Non-trainable params: 0\n",
      "_________________________________________________________________\n"
     ]
    }
   ],
   "source": [
    "# Show the model summary\n",
    "model.summary()"
   ]
  },
  {
   "cell_type": "code",
   "execution_count": 22,
   "metadata": {},
   "outputs": [
    {
     "name": "stdout",
     "output_type": "stream",
     "text": [
      "Epoch 1/10\n",
      "9/9 [==============================] - 6s 9ms/step - loss: 0.0086\n",
      "Epoch 2/10\n",
      "9/9 [==============================] - 0s 8ms/step - loss: 0.0038\n",
      "Epoch 3/10\n",
      "9/9 [==============================] - 0s 8ms/step - loss: 0.0038\n",
      "Epoch 4/10\n",
      "9/9 [==============================] - 0s 9ms/step - loss: 0.0030\n",
      "Epoch 5/10\n",
      "9/9 [==============================] - 0s 8ms/step - loss: 0.0028\n",
      "Epoch 6/10\n",
      "9/9 [==============================] - 0s 8ms/step - loss: 0.0028\n",
      "Epoch 7/10\n",
      "9/9 [==============================] - 0s 8ms/step - loss: 0.0025\n",
      "Epoch 8/10\n",
      "9/9 [==============================] - 0s 8ms/step - loss: 0.0022\n",
      "Epoch 9/10\n",
      "9/9 [==============================] - 0s 8ms/step - loss: 0.0019\n",
      "Epoch 10/10\n",
      "9/9 [==============================] - 0s 8ms/step - loss: 0.0018\n"
     ]
    },
    {
     "data": {
      "text/plain": [
       "<tensorflow.python.keras.callbacks.History at 0x21644e41a00>"
      ]
     },
     "execution_count": 22,
     "metadata": {},
     "output_type": "execute_result"
    }
   ],
   "source": [
    "# Train the model\n",
    "model.fit(X_train, y_train, epochs=10, shuffle=False, batch_size=90, verbose=1)"
   ]
  },
  {
   "cell_type": "code",
   "execution_count": 34,
   "metadata": {},
   "outputs": [],
   "source": [
    " # Make predictions using the testing data X_test\n",
    "predicted = model.predict(X_test)"
   ]
  },
  {
   "cell_type": "code",
   "execution_count": 35,
   "metadata": {},
   "outputs": [
    {
     "data": {
      "text/plain": [
       "(344, 1)"
      ]
     },
     "execution_count": 35,
     "metadata": {},
     "output_type": "execute_result"
    }
   ],
   "source": [
    "predicted.shape"
   ]
  },
  {
   "cell_type": "code",
   "execution_count": 36,
   "metadata": {},
   "outputs": [],
   "source": [
    "# Recover the original prices instead of the scaled version\n",
    "predicted_prices = scaler.inverse_transform(predicted)\n",
    "real_prices = scaler.inverse_transform(y_test.reshape(-1, 1))"
   ]
  },
  {
   "cell_type": "code",
   "execution_count": 37,
   "metadata": {},
   "outputs": [
    {
     "data": {
      "text/html": [
       "<div>\n",
       "<style scoped>\n",
       "    .dataframe tbody tr th:only-of-type {\n",
       "        vertical-align: middle;\n",
       "    }\n",
       "\n",
       "    .dataframe tbody tr th {\n",
       "        vertical-align: top;\n",
       "    }\n",
       "\n",
       "    .dataframe thead th {\n",
       "        text-align: right;\n",
       "    }\n",
       "</style>\n",
       "<table border=\"1\" class=\"dataframe\">\n",
       "  <thead>\n",
       "    <tr style=\"text-align: right;\">\n",
       "      <th></th>\n",
       "      <th>Actual</th>\n",
       "      <th>Predicted</th>\n",
       "    </tr>\n",
       "    <tr>\n",
       "      <th>Date</th>\n",
       "      <th></th>\n",
       "      <th></th>\n",
       "    </tr>\n",
       "  </thead>\n",
       "  <tbody>\n",
       "    <tr>\n",
       "      <th>2020-08-18</th>\n",
       "      <td>66.759048</td>\n",
       "      <td>57.985764</td>\n",
       "    </tr>\n",
       "    <tr>\n",
       "      <th>2020-08-19</th>\n",
       "      <td>61.552362</td>\n",
       "      <td>58.345837</td>\n",
       "    </tr>\n",
       "    <tr>\n",
       "      <th>2020-08-20</th>\n",
       "      <td>62.429652</td>\n",
       "      <td>58.682827</td>\n",
       "    </tr>\n",
       "    <tr>\n",
       "      <th>2020-08-21</th>\n",
       "      <td>59.938543</td>\n",
       "      <td>59.495171</td>\n",
       "    </tr>\n",
       "    <tr>\n",
       "      <th>2020-08-22</th>\n",
       "      <td>60.281703</td>\n",
       "      <td>60.275616</td>\n",
       "    </tr>\n",
       "  </tbody>\n",
       "</table>\n",
       "</div>"
      ],
      "text/plain": [
       "               Actual  Predicted\n",
       "Date                            \n",
       "2020-08-18  66.759048  57.985764\n",
       "2020-08-19  61.552362  58.345837\n",
       "2020-08-20  62.429652  58.682827\n",
       "2020-08-21  59.938543  59.495171\n",
       "2020-08-22  60.281703  60.275616"
      ]
     },
     "execution_count": 37,
     "metadata": {},
     "output_type": "execute_result"
    }
   ],
   "source": [
    " # Create a DataFrame of Real and Predicted values\n",
    "ltc_eval = pd.DataFrame({\n",
    "    \"Actual\": real_prices.ravel(),\n",
    "    \"Predicted\": predicted_prices.ravel()\n",
    "}, index = ltc_df.index[-len(real_prices): ]) \n",
    "\n",
    "# Show the DataFrame's head\n",
    "ltc_eval.head()"
   ]
  },
  {
   "cell_type": "code",
   "execution_count": 38,
   "metadata": {},
   "outputs": [
    {
     "data": {
      "text/plain": [
       "<AxesSubplot:title={'center':'Actual Vs. Predicted ETH Prices'}, xlabel='Date'>"
      ]
     },
     "execution_count": 38,
     "metadata": {},
     "output_type": "execute_result"
    },
    {
     "data": {
      "image/png": "[encoded data removed]",
      "text/plain": [
       "<Figure size 432x288 with 1 Axes>"
      ]
     },
     "metadata": {
      "needs_background": "light"
     },
     "output_type": "display_data"
    }
   ],
   "source": [
    " # Plot the real vs predicted prices as a line chart\n",
    "ltc_eval.plot(title=\"Actual Vs. Predicted ETH Prices\")"
   ]
  },
  {
   "cell_type": "code",
   "execution_count": 39,
   "metadata": {},
   "outputs": [
    {
     "name": "stdout",
     "output_type": "stream",
     "text": [
      "3146.518386039765\n",
      "56.093835544021815\n",
      "40.27475898071486\n"
     ]
    }
   ],
   "source": [
    "#seprate actual and pred\n",
    "Pred= ltc_eval['Actual']\n",
    "act= ltc_eval['Predicted']\n",
    "\n",
    "#model eval\n",
    "from sklearn.metrics import mean_absolute_error\n",
    "from sklearn.metrics import mean_squared_error\n",
    "import math\n",
    "print(mean_squared_error(act, Pred))\n",
    "print(math.sqrt(mean_squared_error(act, Pred)))\n",
    "print(mean_absolute_error(act, Pred))"
   ]
  },
  {
   "cell_type": "code",
   "execution_count": 40,
   "metadata": {},
   "outputs": [],
   "source": [
    "#create buy and sell signals \n",
    "#calculate profit and loss\n",
    "\n",
    "#create 'profit/loss' column to track trade metrics\n",
    "ltc_eval['profit/loss'] = np.nan\n",
    "\n",
    "#create column to hold buy and cell signals\n",
    "ltc_eval['signals'] = np.nan\n",
    "\n",
    "#create buy and sell list containers\n",
    "buy = []\n",
    "sell = []\n",
    "\n",
    "#create column that has next days price\n",
    "ltc_eval['next_day'] = ltc_eval[\"Predicted\"].shift(-1)"
   ]
  },
  {
   "cell_type": "code",
   "execution_count": 42,
   "metadata": {},
   "outputs": [],
   "source": [
    "#create loop that buys if next day price is higer and sells if next day price goes down\n",
    "for index, row in ltc_eval.iterrows():\n",
    "\n",
    "    if row[\"Predicted\"] > row[\"next_day\"]:\n",
    "        ltc_eval.loc[index, \"signals\"] = \"buy\"\n",
    "        buy.append(row[\"Actual\"])\n",
    "        ltc_eval.loc[index, \"profit/loss\"] = 0\n",
    "    elif row[\"Predicted\"] < row[\"next_day\"]:\n",
    "        ltc_eval.loc[index, \"signals\"] = \"sell\"\n",
    "        sell.append(row[\"Actual\"])\n",
    "        #ltc_eval.loc[index, \"profit/loss\"] = sell[-1] - buy[-1]\n",
    "    else:\n",
    "        ltc_eval.loc[index, \"signals\"] = \"hold\"\n"
   ]
  },
  {
   "cell_type": "code",
   "execution_count": 43,
   "metadata": {},
   "outputs": [],
   "source": [
    "#create loop that buys if next day price is higer and sells if next day price goes down\n",
    "for index, row in ltc_eval.iterrows():\n",
    "\n",
    "    if row[\"Predicted\"] > row[\"next_day\"]:\n",
    "        ltc_eval.loc[index, \"signals\"] = \"buy\"\n",
    "        buy.append(row[\"Actual\"])\n",
    "        ltc_eval.loc[index, \"profit/loss\"] = 0\n",
    "    elif row[\"Predicted\"] < row[\"next_day\"]:\n",
    "        ltc_eval.loc[index, \"signals\"] = \"sell\"\n",
    "        sell.append(row[\"Actual\"])\n",
    "        ltc_eval.loc[index, \"profit/loss\"] = sell[-1] - buy[-1]\n",
    "    else:\n",
    "        ltc_eval.loc[index, \"signals\"] = \"hold\"\n"
   ]
  },
  {
   "cell_type": "code",
   "execution_count": 44,
   "metadata": {},
   "outputs": [],
   "source": [
    "ltc_eval.dropna(inplace= True)"
   ]
  },
  {
   "cell_type": "code",
   "execution_count": 45,
   "metadata": {},
   "outputs": [
    {
     "data": {
      "text/html": [
       "<div>\n",
       "<style scoped>\n",
       "    .dataframe tbody tr th:only-of-type {\n",
       "        vertical-align: middle;\n",
       "    }\n",
       "\n",
       "    .dataframe tbody tr th {\n",
       "        vertical-align: top;\n",
       "    }\n",
       "\n",
       "    .dataframe thead th {\n",
       "        text-align: right;\n",
       "    }\n",
       "</style>\n",
       "<table border=\"1\" class=\"dataframe\">\n",
       "  <thead>\n",
       "    <tr style=\"text-align: right;\">\n",
       "      <th></th>\n",
       "      <th>Actual</th>\n",
       "      <th>Predicted</th>\n",
       "      <th>profit/loss</th>\n",
       "      <th>signals</th>\n",
       "      <th>next_day</th>\n",
       "    </tr>\n",
       "    <tr>\n",
       "      <th>Date</th>\n",
       "      <th></th>\n",
       "      <th></th>\n",
       "      <th></th>\n",
       "      <th></th>\n",
       "      <th></th>\n",
       "    </tr>\n",
       "  </thead>\n",
       "  <tbody>\n",
       "    <tr>\n",
       "      <th>2020-08-18</th>\n",
       "      <td>66.759048</td>\n",
       "      <td>57.985764</td>\n",
       "      <td>-58.156355</td>\n",
       "      <td>sell</td>\n",
       "      <td>58.345837</td>\n",
       "    </tr>\n",
       "    <tr>\n",
       "      <th>2020-08-19</th>\n",
       "      <td>61.552362</td>\n",
       "      <td>58.345837</td>\n",
       "      <td>-63.363042</td>\n",
       "      <td>sell</td>\n",
       "      <td>58.682827</td>\n",
       "    </tr>\n",
       "    <tr>\n",
       "      <th>2020-08-20</th>\n",
       "      <td>62.429652</td>\n",
       "      <td>58.682827</td>\n",
       "      <td>-62.485751</td>\n",
       "      <td>sell</td>\n",
       "      <td>59.495171</td>\n",
       "    </tr>\n",
       "    <tr>\n",
       "      <th>2020-08-21</th>\n",
       "      <td>59.938543</td>\n",
       "      <td>59.495171</td>\n",
       "      <td>-64.976860</td>\n",
       "      <td>sell</td>\n",
       "      <td>60.275616</td>\n",
       "    </tr>\n",
       "    <tr>\n",
       "      <th>2020-08-22</th>\n",
       "      <td>60.281703</td>\n",
       "      <td>60.275616</td>\n",
       "      <td>-64.633700</td>\n",
       "      <td>sell</td>\n",
       "      <td>60.776173</td>\n",
       "    </tr>\n",
       "    <tr>\n",
       "      <th>...</th>\n",
       "      <td>...</td>\n",
       "      <td>...</td>\n",
       "      <td>...</td>\n",
       "      <td>...</td>\n",
       "      <td>...</td>\n",
       "    </tr>\n",
       "    <tr>\n",
       "      <th>2021-07-22</th>\n",
       "      <td>119.913432</td>\n",
       "      <td>94.937714</td>\n",
       "      <td>0.000000</td>\n",
       "      <td>buy</td>\n",
       "      <td>93.616287</td>\n",
       "    </tr>\n",
       "    <tr>\n",
       "      <th>2021-07-23</th>\n",
       "      <td>122.269072</td>\n",
       "      <td>93.616287</td>\n",
       "      <td>0.000000</td>\n",
       "      <td>buy</td>\n",
       "      <td>92.178131</td>\n",
       "    </tr>\n",
       "    <tr>\n",
       "      <th>2021-07-24</th>\n",
       "      <td>124.637360</td>\n",
       "      <td>92.178131</td>\n",
       "      <td>0.000000</td>\n",
       "      <td>buy</td>\n",
       "      <td>91.413399</td>\n",
       "    </tr>\n",
       "    <tr>\n",
       "      <th>2021-07-25</th>\n",
       "      <td>124.915403</td>\n",
       "      <td>91.413399</td>\n",
       "      <td>0.000000</td>\n",
       "      <td>buy</td>\n",
       "      <td>91.082863</td>\n",
       "    </tr>\n",
       "    <tr>\n",
       "      <th>2021-07-26</th>\n",
       "      <td>131.259250</td>\n",
       "      <td>91.082863</td>\n",
       "      <td>6.343847</td>\n",
       "      <td>sell</td>\n",
       "      <td>91.168045</td>\n",
       "    </tr>\n",
       "  </tbody>\n",
       "</table>\n",
       "<p>343 rows × 5 columns</p>\n",
       "</div>"
      ],
      "text/plain": [
       "                Actual  Predicted  profit/loss signals   next_day\n",
       "Date                                                             \n",
       "2020-08-18   66.759048  57.985764   -58.156355    sell  58.345837\n",
       "2020-08-19   61.552362  58.345837   -63.363042    sell  58.682827\n",
       "2020-08-20   62.429652  58.682827   -62.485751    sell  59.495171\n",
       "2020-08-21   59.938543  59.495171   -64.976860    sell  60.275616\n",
       "2020-08-22   60.281703  60.275616   -64.633700    sell  60.776173\n",
       "...                ...        ...          ...     ...        ...\n",
       "2021-07-22  119.913432  94.937714     0.000000     buy  93.616287\n",
       "2021-07-23  122.269072  93.616287     0.000000     buy  92.178131\n",
       "2021-07-24  124.637360  92.178131     0.000000     buy  91.413399\n",
       "2021-07-25  124.915403  91.413399     0.000000     buy  91.082863\n",
       "2021-07-26  131.259250  91.082863     6.343847    sell  91.168045\n",
       "\n",
       "[343 rows x 5 columns]"
      ]
     },
     "execution_count": 45,
     "metadata": {},
     "output_type": "execute_result"
    }
   ],
   "source": [
    "ltc_eval"
   ]
  },
  {
   "cell_type": "code",
   "execution_count": 47,
   "metadata": {},
   "outputs": [
    {
     "name": "stdout",
     "output_type": "stream",
     "text": [
      "The total profit/loss of the trading model is $3192890.01, with the total return on investment being 319.29%\n"
     ]
    }
   ],
   "source": [
    "# calculate total profit/loss and percent return for 1000 total coins\n",
    "\n",
    "# total amount of initial capital\n",
    "initial_capital = 1000000\n",
    "\n",
    "# set total amount of coins\n",
    "coin_order = 1000\n",
    "\n",
    "# calculate total profit/loss\n",
    "total_profit_loss = round(ltc_eval[\"profit/loss\"].sum() * coin_order, 2)\n",
    "\n",
    "# calculate return on investemnt \n",
    "roi = round((total_profit_loss / initial_capital) * 100, 2)\n",
    "\n",
    "# display profit/loss and roi\n",
    "print(\n",
    "    f\"The total profit/loss of the trading model is ${total_profit_loss}, \"\n",
    "    f\"with the total return on investment being {roi}%\"\n",
    ")"
   ]
  },
  {
   "cell_type": "code",
   "execution_count": null,
   "metadata": {},
   "outputs": [],
   "source": []
  }
 ],
 "metadata": {
  "kernelspec": {
   "display_name": "Python 3",
   "language": "python",
   "name": "python3"
  },
  "language_info": {
   "codemirror_mode": {
    "name": "ipython",
    "version": 3
   },
   "file_extension": ".py",
   "mimetype": "text/x-python",
   "name": "python",
   "nbconvert_exporter": "python",
   "pygments_lexer": "ipython3",
   "version": "3.8.5"
  }
 },
 "nbformat": 4,
 "nbformat_minor": 4
}
